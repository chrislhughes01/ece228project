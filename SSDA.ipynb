{
 "cells": [
  {
   "cell_type": "code",
   "execution_count": 2,
   "metadata": {
    "colab": {
     "base_uri": "https://localhost:8080/",
     "height": 71
    },
    "colab_type": "code",
    "id": "6xTh2_Vh6K6V",
    "outputId": "a3344f6c-5fd3-48c9-ad1f-4d655284bf1a"
   },
   "outputs": [],
   "source": [
    "import pandas as pd\n",
    "import numpy as np\n",
    "import matplotlib.pyplot as plt\n",
    "import scipy.stats as st\n",
    "import seaborn as sns\n",
    "#import pandas_profiling\n",
    "from pydantic_settings import BaseSettings\n",
    "%matplotlib inline\n",
    "df = pd.read_csv('framingham.csv')"
   ]
  },
  {
   "cell_type": "code",
   "execution_count": 3,
   "metadata": {
    "colab": {
     "base_uri": "https://localhost:8080/",
     "height": 560
    },
    "colab_type": "code",
    "id": "D9y8mfuS6Ph3",
    "outputId": "b972417c-9dbf-4b1a-e94b-112671ef6bfc"
   },
   "outputs": [
    {
     "name": "stderr",
     "output_type": "stream",
     "text": [
      "/var/folders/3_/gjvvhtcd3ds_yszgm7r1r4fh0000gn/T/ipykernel_24927/3651101966.py:12: FutureWarning: A value is trying to be set on a copy of a DataFrame or Series through chained assignment using an inplace method.\n",
      "The behavior will change in pandas 3.0. This inplace method will never work because the intermediate object on which we are setting values always behaves as a copy.\n",
      "\n",
      "For example, when doing 'df[col].method(value, inplace=True)', try using 'df.method({col: value}, inplace=True)' or df[col] = df[col].method(value) instead, to perform the operation inplace on the original object.\n",
      "\n",
      "\n",
      "  df['BPMeds'].fillna(0, inplace = True)\n",
      "/var/folders/3_/gjvvhtcd3ds_yszgm7r1r4fh0000gn/T/ipykernel_24927/3651101966.py:13: FutureWarning: A value is trying to be set on a copy of a DataFrame or Series through chained assignment using an inplace method.\n",
      "The behavior will change in pandas 3.0. This inplace method will never work because the intermediate object on which we are setting values always behaves as a copy.\n",
      "\n",
      "For example, when doing 'df[col].method(value, inplace=True)', try using 'df.method({col: value}, inplace=True)' or df[col] = df[col].method(value) instead, to perform the operation inplace on the original object.\n",
      "\n",
      "\n",
      "  df['glucose'].fillna(df.glucose.mean(), inplace = True)\n",
      "/var/folders/3_/gjvvhtcd3ds_yszgm7r1r4fh0000gn/T/ipykernel_24927/3651101966.py:14: FutureWarning: A value is trying to be set on a copy of a DataFrame or Series through chained assignment using an inplace method.\n",
      "The behavior will change in pandas 3.0. This inplace method will never work because the intermediate object on which we are setting values always behaves as a copy.\n",
      "\n",
      "For example, when doing 'df[col].method(value, inplace=True)', try using 'df.method({col: value}, inplace=True)' or df[col] = df[col].method(value) instead, to perform the operation inplace on the original object.\n",
      "\n",
      "\n",
      "  df['totChol'].fillna(df.totChol.mean(), inplace = True)\n",
      "/var/folders/3_/gjvvhtcd3ds_yszgm7r1r4fh0000gn/T/ipykernel_24927/3651101966.py:15: FutureWarning: A value is trying to be set on a copy of a DataFrame or Series through chained assignment using an inplace method.\n",
      "The behavior will change in pandas 3.0. This inplace method will never work because the intermediate object on which we are setting values always behaves as a copy.\n",
      "\n",
      "For example, when doing 'df[col].method(value, inplace=True)', try using 'df.method({col: value}, inplace=True)' or df[col] = df[col].method(value) instead, to perform the operation inplace on the original object.\n",
      "\n",
      "\n",
      "  df['education'].fillna(1, inplace = True)\n",
      "/var/folders/3_/gjvvhtcd3ds_yszgm7r1r4fh0000gn/T/ipykernel_24927/3651101966.py:16: FutureWarning: A value is trying to be set on a copy of a DataFrame or Series through chained assignment using an inplace method.\n",
      "The behavior will change in pandas 3.0. This inplace method will never work because the intermediate object on which we are setting values always behaves as a copy.\n",
      "\n",
      "For example, when doing 'df[col].method(value, inplace=True)', try using 'df.method({col: value}, inplace=True)' or df[col] = df[col].method(value) instead, to perform the operation inplace on the original object.\n",
      "\n",
      "\n",
      "  df['BMI'].fillna(df.BMI.mean(), inplace = True)\n",
      "/var/folders/3_/gjvvhtcd3ds_yszgm7r1r4fh0000gn/T/ipykernel_24927/3651101966.py:17: FutureWarning: A value is trying to be set on a copy of a DataFrame or Series through chained assignment using an inplace method.\n",
      "The behavior will change in pandas 3.0. This inplace method will never work because the intermediate object on which we are setting values always behaves as a copy.\n",
      "\n",
      "For example, when doing 'df[col].method(value, inplace=True)', try using 'df.method({col: value}, inplace=True)' or df[col] = df[col].method(value) instead, to perform the operation inplace on the original object.\n",
      "\n",
      "\n",
      "  df['heartRate'].fillna(df.heartRate.mean(), inplace = True)\n"
     ]
    },
    {
     "data": {
      "text/plain": [
       "male               0\n",
       "age                0\n",
       "education          0\n",
       "currentSmoker      0\n",
       "cigsPerDay         0\n",
       "BPMeds             0\n",
       "prevalentStroke    0\n",
       "prevalentHyp       0\n",
       "diabetes           0\n",
       "totChol            0\n",
       "sysBP              0\n",
       "diaBP              0\n",
       "BMI                0\n",
       "heartRate          0\n",
       "glucose            0\n",
       "TenYearCHD         0\n",
       "dtype: int64"
      ]
     },
     "execution_count": 3,
     "metadata": {},
     "output_type": "execute_result"
    },
    {
     "data": {
      "image/png": "[encoded data removed]",
      "text/plain": [
       "<Figure size 640x480 with 1 Axes>"
      ]
     },
     "metadata": {},
     "output_type": "display_data"
    }
   ],
   "source": [
    "df['TenYearCHD'].value_counts(normalize = True)\n",
    "df['cigsPerDay'].value_counts(normalize = True).plot(kind=\"bar\")\n",
    "df['cigsPerDay'][df['currentSmoker']==0].isna().sum()\n",
    "# creating a boolean array of smokers\n",
    "smoke = (df['currentSmoker']==1)\n",
    "# applying mean to NaNs in cigsPerDay but using a set of smokers only\n",
    "df.loc[smoke,'cigsPerDay'] = df.loc[smoke,'cigsPerDay'].fillna(df.loc[smoke,'cigsPerDay'].mean())\n",
    "df['cigsPerDay'][df['currentSmoker']==1].mean()\n",
    "df['cigsPerDay'][df['currentSmoker']==0].mean()\n",
    "df['education'].value_counts(normalize = True).plot(kind=\"bar\")\n",
    "# Filling out missing values\n",
    "df['BPMeds'].fillna(0, inplace = True)\n",
    "df['glucose'].fillna(df.glucose.mean(), inplace = True)\n",
    "df['totChol'].fillna(df.totChol.mean(), inplace = True)\n",
    "df['education'].fillna(1, inplace = True)\n",
    "df['BMI'].fillna(df.BMI.mean(), inplace = True)\n",
    "df['heartRate'].fillna(df.heartRate.mean(), inplace = True)\n",
    "df.isna().sum()"
   ]
  },
  {
   "cell_type": "code",
   "execution_count": 4,
   "metadata": {
    "colab": {
     "base_uri": "https://localhost:8080/",
     "height": 221
    },
    "colab_type": "code",
    "id": "Ee9f0LP66RTz",
    "outputId": "1df190e3-b102-48d0-ab3d-53fde198ada2"
   },
   "outputs": [
    {
     "name": "stdout",
     "output_type": "stream",
     "text": [
      "              Specs       Score\n",
      "10            sysBP  727.935535\n",
      "1               age  319.266019\n",
      "9           totChol  235.502392\n",
      "4        cigsPerDay  209.897040\n",
      "11            diaBP  152.748563\n",
      "7      prevalentHyp   92.048736\n",
      "8          diabetes   39.144944\n",
      "5            BPMeds   30.759595\n",
      "0              male   18.899930\n",
      "6   prevalentStroke   16.109887\n",
      "12              BMI   15.227367\n"
     ]
    }
   ],
   "source": [
    "from sklearn.feature_selection import SelectKBest\n",
    "from sklearn.feature_selection import chi2\n",
    "\n",
    "# separate independent & dependent variables\n",
    "X = df.iloc[:,0:14]  #independent columns\n",
    "y = df.iloc[:,-1]    #target column i.e price range\n",
    "\n",
    "# apply SelectKBest class to extract top 10 best features\n",
    "bestfeatures = SelectKBest(score_func=chi2, k=11)\n",
    "fit = bestfeatures.fit(X,y)\n",
    "dfscores = pd.DataFrame(fit.scores_)\n",
    "dfcolumns = pd.DataFrame(X.columns)\n",
    "featureScores = pd.concat([dfcolumns,dfscores],axis=1)\n",
    "featureScores.columns = ['Specs','Score']  #naming the dataframe columns\n",
    "print(featureScores.nlargest(11,'Score'))  #print 10 best features"
   ]
  },
  {
   "cell_type": "code",
   "execution_count": 5,
   "metadata": {
    "colab": {
     "base_uri": "https://localhost:8080/",
     "height": 483
    },
    "colab_type": "code",
    "id": "iyAhKYg26TOD",
    "outputId": "40cc1f10-1d3e-4852-b09f-fcc2ba430774"
   },
   "outputs": [
    {
     "data": {
      "text/html": [
       "<div>\n",
       "<style scoped>\n",
       "    .dataframe tbody tr th:only-of-type {\n",
       "        vertical-align: middle;\n",
       "    }\n",
       "\n",
       "    .dataframe tbody tr th {\n",
       "        vertical-align: top;\n",
       "    }\n",
       "\n",
       "    .dataframe thead th {\n",
       "        text-align: right;\n",
       "    }\n",
       "</style>\n",
       "<table border=\"1\" class=\"dataframe\">\n",
       "  <thead>\n",
       "    <tr style=\"text-align: right;\">\n",
       "      <th></th>\n",
       "      <th>Specs</th>\n",
       "      <th>Score</th>\n",
       "    </tr>\n",
       "  </thead>\n",
       "  <tbody>\n",
       "    <tr>\n",
       "      <th>10</th>\n",
       "      <td>sysBP</td>\n",
       "      <td>727.935535</td>\n",
       "    </tr>\n",
       "    <tr>\n",
       "      <th>1</th>\n",
       "      <td>age</td>\n",
       "      <td>319.266019</td>\n",
       "    </tr>\n",
       "    <tr>\n",
       "      <th>9</th>\n",
       "      <td>totChol</td>\n",
       "      <td>235.502392</td>\n",
       "    </tr>\n",
       "    <tr>\n",
       "      <th>4</th>\n",
       "      <td>cigsPerDay</td>\n",
       "      <td>209.897040</td>\n",
       "    </tr>\n",
       "    <tr>\n",
       "      <th>11</th>\n",
       "      <td>diaBP</td>\n",
       "      <td>152.748563</td>\n",
       "    </tr>\n",
       "    <tr>\n",
       "      <th>7</th>\n",
       "      <td>prevalentHyp</td>\n",
       "      <td>92.048736</td>\n",
       "    </tr>\n",
       "    <tr>\n",
       "      <th>8</th>\n",
       "      <td>diabetes</td>\n",
       "      <td>39.144944</td>\n",
       "    </tr>\n",
       "    <tr>\n",
       "      <th>5</th>\n",
       "      <td>BPMeds</td>\n",
       "      <td>30.759595</td>\n",
       "    </tr>\n",
       "    <tr>\n",
       "      <th>0</th>\n",
       "      <td>male</td>\n",
       "      <td>18.899930</td>\n",
       "    </tr>\n",
       "    <tr>\n",
       "      <th>6</th>\n",
       "      <td>prevalentStroke</td>\n",
       "      <td>16.109887</td>\n",
       "    </tr>\n",
       "    <tr>\n",
       "      <th>12</th>\n",
       "      <td>BMI</td>\n",
       "      <td>15.227367</td>\n",
       "    </tr>\n",
       "    <tr>\n",
       "      <th>2</th>\n",
       "      <td>education</td>\n",
       "      <td>6.318253</td>\n",
       "    </tr>\n",
       "    <tr>\n",
       "      <th>13</th>\n",
       "      <td>heartRate</td>\n",
       "      <td>4.232372</td>\n",
       "    </tr>\n",
       "    <tr>\n",
       "      <th>3</th>\n",
       "      <td>currentSmoker</td>\n",
       "      <td>0.811334</td>\n",
       "    </tr>\n",
       "  </tbody>\n",
       "</table>\n",
       "</div>"
      ],
      "text/plain": [
       "              Specs       Score\n",
       "10            sysBP  727.935535\n",
       "1               age  319.266019\n",
       "9           totChol  235.502392\n",
       "4        cigsPerDay  209.897040\n",
       "11            diaBP  152.748563\n",
       "7      prevalentHyp   92.048736\n",
       "8          diabetes   39.144944\n",
       "5            BPMeds   30.759595\n",
       "0              male   18.899930\n",
       "6   prevalentStroke   16.109887\n",
       "12              BMI   15.227367\n",
       "2         education    6.318253\n",
       "13        heartRate    4.232372\n",
       "3     currentSmoker    0.811334"
      ]
     },
     "execution_count": 5,
     "metadata": {},
     "output_type": "execute_result"
    }
   ],
   "source": [
    "featureScores = featureScores.sort_values(by='Score', ascending=False)\n",
    "featureScores"
   ]
  },
  {
   "cell_type": "code",
   "execution_count": null,
   "metadata": {},
   "outputs": [],
   "source": []
  },
  {
   "cell_type": "code",
   "execution_count": 6,
   "metadata": {
    "colab": {
     "base_uri": "https://localhost:8080/",
     "height": 299
    },
    "colab_type": "code",
    "id": "SMBNo9GW6aZ5",
    "outputId": "f2c13008-9884-4141-c0f8-ab33cf9d20ae"
   },
   "outputs": [
    {
     "name": "stderr",
     "output_type": "stream",
     "text": [
      "/var/folders/3_/gjvvhtcd3ds_yszgm7r1r4fh0000gn/T/ipykernel_24927/2876043360.py:6: FutureWarning: \n",
      "\n",
      "Passing `palette` without assigning `hue` is deprecated and will be removed in v0.14.0. Assign the `x` variable to `hue` and set `legend=False` for the same effect.\n",
      "\n",
      "  sns.barplot(x='Specs', y='Score', data=featureScores, palette = \"GnBu_d\")\n"
     ]
    },
    {
     "data": {
      "image/png": "[encoded data removed]",
      "text/plain": [
       "<Figure size 2000x500 with 1 Axes>"
      ]
     },
     "metadata": {},
     "output_type": "display_data"
    }
   ],
   "source": [
    "# visualizing feature selection\n",
    "import matplotlib.pyplot as plt\n",
    "import seaborn as sns\n",
    "\n",
    "plt.figure(figsize=(20,5))\n",
    "sns.barplot(x='Specs', y='Score', data=featureScores, palette = \"GnBu_d\")\n",
    "plt.box(False)\n",
    "plt.title('Feature importance', fontsize=16)\n",
    "plt.xlabel('\\n Features', fontsize=14)\n",
    "plt.ylabel('Importance \\n', fontsize=14)\n",
    "plt.xticks(fontsize=12)\n",
    "plt.yticks(fontsize=12)\n",
    "plt.show()"
   ]
  },
  {
   "cell_type": "code",
   "execution_count": 7,
   "metadata": {
    "colab": {
     "base_uri": "https://localhost:8080/",
     "height": 238
    },
    "colab_type": "code",
    "id": "7HQGBcKg6cOi",
    "outputId": "75da11dc-986a-4dcd-940c-239d2f44fabc"
   },
   "outputs": [
    {
     "data": {
      "text/plain": [
       "['sysBP',\n",
       " 'age',\n",
       " 'totChol',\n",
       " 'cigsPerDay',\n",
       " 'diaBP',\n",
       " 'prevalentHyp',\n",
       " 'diabetes',\n",
       " 'BPMeds',\n",
       " 'male',\n",
       " 'prevalentStroke',\n",
       " 'BMI',\n",
       " 'education',\n",
       " 'heartRate']"
      ]
     },
     "execution_count": 7,
     "metadata": {},
     "output_type": "execute_result"
    }
   ],
   "source": [
    "features_list = featureScores[\"Specs\"].tolist()[:13]\n",
    "features_list"
   ]
  },
  {
   "cell_type": "code",
   "execution_count": 8,
   "metadata": {
    "colab": {
     "base_uri": "https://localhost:8080/",
     "height": 204
    },
    "colab_type": "code",
    "id": "4Gisak_16g6Z",
    "outputId": "129fa414-75e9-455d-a779-569475b4ab19"
   },
   "outputs": [
    {
     "data": {
      "text/html": [
       "<div>\n",
       "<style scoped>\n",
       "    .dataframe tbody tr th:only-of-type {\n",
       "        vertical-align: middle;\n",
       "    }\n",
       "\n",
       "    .dataframe tbody tr th {\n",
       "        vertical-align: top;\n",
       "    }\n",
       "\n",
       "    .dataframe thead th {\n",
       "        text-align: right;\n",
       "    }\n",
       "</style>\n",
       "<table border=\"1\" class=\"dataframe\">\n",
       "  <thead>\n",
       "    <tr style=\"text-align: right;\">\n",
       "      <th></th>\n",
       "      <th>sysBP</th>\n",
       "      <th>age</th>\n",
       "      <th>totChol</th>\n",
       "      <th>cigsPerDay</th>\n",
       "      <th>diaBP</th>\n",
       "      <th>TenYearCHD</th>\n",
       "    </tr>\n",
       "  </thead>\n",
       "  <tbody>\n",
       "    <tr>\n",
       "      <th>0</th>\n",
       "      <td>106.0</td>\n",
       "      <td>39</td>\n",
       "      <td>195.0</td>\n",
       "      <td>0.0</td>\n",
       "      <td>70.0</td>\n",
       "      <td>0</td>\n",
       "    </tr>\n",
       "    <tr>\n",
       "      <th>1</th>\n",
       "      <td>121.0</td>\n",
       "      <td>46</td>\n",
       "      <td>250.0</td>\n",
       "      <td>0.0</td>\n",
       "      <td>81.0</td>\n",
       "      <td>0</td>\n",
       "    </tr>\n",
       "    <tr>\n",
       "      <th>2</th>\n",
       "      <td>127.5</td>\n",
       "      <td>48</td>\n",
       "      <td>245.0</td>\n",
       "      <td>20.0</td>\n",
       "      <td>80.0</td>\n",
       "      <td>0</td>\n",
       "    </tr>\n",
       "    <tr>\n",
       "      <th>3</th>\n",
       "      <td>150.0</td>\n",
       "      <td>61</td>\n",
       "      <td>225.0</td>\n",
       "      <td>30.0</td>\n",
       "      <td>95.0</td>\n",
       "      <td>1</td>\n",
       "    </tr>\n",
       "    <tr>\n",
       "      <th>4</th>\n",
       "      <td>130.0</td>\n",
       "      <td>46</td>\n",
       "      <td>285.0</td>\n",
       "      <td>23.0</td>\n",
       "      <td>84.0</td>\n",
       "      <td>0</td>\n",
       "    </tr>\n",
       "  </tbody>\n",
       "</table>\n",
       "</div>"
      ],
      "text/plain": [
       "   sysBP  age  totChol  cigsPerDay  diaBP  TenYearCHD\n",
       "0  106.0   39    195.0         0.0   70.0           0\n",
       "1  121.0   46    250.0         0.0   81.0           0\n",
       "2  127.5   48    245.0        20.0   80.0           0\n",
       "3  150.0   61    225.0        30.0   95.0           1\n",
       "4  130.0   46    285.0        23.0   84.0           0"
      ]
     },
     "execution_count": 8,
     "metadata": {},
     "output_type": "execute_result"
    }
   ],
   "source": [
    "df = df[['sysBP','age','totChol','cigsPerDay','diaBP','TenYearCHD']]\n",
    "df.head()"
   ]
  },
  {
   "cell_type": "code",
   "execution_count": 9,
   "metadata": {
    "colab": {
     "base_uri": "https://localhost:8080/",
     "height": 51
    },
    "colab_type": "code",
    "id": "XoDRWhfn6jQ4",
    "outputId": "f2761a2f-6979-46e4-ef30-39117c21c7ff"
   },
   "outputs": [
    {
     "name": "stdout",
     "output_type": "stream",
     "text": [
      "(3392, 5) (3392,)\n",
      "(848, 5) (848,)\n"
     ]
    }
   ],
   "source": [
    "from sklearn.model_selection import train_test_split\n",
    "\n",
    "y = df['TenYearCHD'] #target variable\n",
    "X = df.drop(['TenYearCHD'], axis = 1) #features\n",
    "X_train, X_test, y_train, y_test = train_test_split(X, y, test_size=0.2)\n",
    "\n",
    "print (X_train.shape, y_train.shape)\n",
    "print (X_test.shape, y_test.shape)"
   ]
  },
  {
   "cell_type": "code",
   "execution_count": null,
   "metadata": {
    "colab": {
     "base_uri": "https://localhost:8080/",
     "height": 34
    },
    "colab_type": "code",
    "id": "ilr3wDIY6wQY",
    "outputId": "4e4703b8-d6e0-4cc4-8d5b-76f0a1901b2f"
   },
   "outputs": [
    {
     "name": "stdout",
     "output_type": "stream",
     "text": [
      "Original Model Accuracy (no SMOTE):  0.8502358490566038\n",
      "Mean ROC AUC for Logistic Regression with SMOTE (on X_train, via cross-validation): 0.722\n"
     ]
    }
   ],
   "source": [
    "from sklearn.linear_model import LogisticRegression\n",
    "from sklearn import datasets, linear_model\n",
    "from imblearn.pipeline import Pipeline\n",
    "from sklearn.svm import SVC\n",
    "from imblearn.pipeline import Pipeline\n",
    "from sklearn.model_selection import RepeatedStratifiedKFold\n",
    "# decision tree  on imbalanced dataset with SMOTE oversampling and random undersampling\n",
    "from numpy import mean\n",
    "from sklearn.datasets import make_classification\n",
    "from sklearn.model_selection import cross_val_score\n",
    "from sklearn.model_selection import RepeatedStratifiedKFold\n",
    "from sklearn.tree import DecisionTreeClassifier\n",
    "from imblearn.pipeline import Pipeline\n",
    "from imblearn.over_sampling import SMOTE\n",
    "from imblearn.under_sampling import RandomUnderSampler\n",
    "from imblearn.over_sampling import SMOTE\n",
    "import sklearn.linear_model as lm\n",
    "\n",
    "# fit a model\n",
    "# lm = lm.LogisticRegression()\n",
    "# model = lm.fit(X_train, y_train)\n",
    "# over = SMOTE(sampling_strategy=0.1)\n",
    "# steps = [('over', over), ('model', model)]\n",
    "# pipeline = Pipeline(steps=steps)\n",
    "# X, y = make_classification(n_samples=10000, n_features=5, n_redundant=0,\n",
    "# \tn_clusters_per_class=1, weights=[0.99], flip_y=0, random_state=1)\n",
    "# cv = RepeatedStratifiedKFold(n_splits=5, n_repeats=3, random_state=1)\n",
    "# scores = cross_val_score(pipeline, X, y, scoring='roc_auc', cv=cv, n_jobs=-1)\n",
    "# print(model.score(X_test, y_test))\n",
    "# print('Mean ROC AUC: %.3f' % mean(scores))\n",
    "\n",
    "model_orig = LogisticRegression(max_iter=1000)\n",
    "model_orig.fit(X_train, y_train)\n",
    "print(\"Original Model Accuracy (no SMOTE): \", model_orig.score(X_test, y_test))\n",
    "\n",
    "over_sampler = SMOTE(sampling_strategy=1, random_state=1)\n",
    "\n",
    "log_reg_model_pipeline = LogisticRegression(max_iter=1000)\n",
    "smote_log_reg_pipeline = Pipeline(steps=[('over', over_sampler),\n",
    "                                         ('model', log_reg_model_pipeline)])\n",
    "\n",
    "cv_strategy = RepeatedStratifiedKFold(n_splits=5, n_repeats=3, random_state=1)\n",
    "roc_auc_scores = cross_val_score(smote_log_reg_pipeline, X_train, y_train, scoring='roc_auc', cv=cv_strategy, n_jobs=-1)\n",
    "\n",
    "print(f\"Mean ROC AUC for Logistic Regression with SMOTE (no ensembling) (on X_train, via cross-validation): {mean(roc_auc_scores):.3f}\")"
   ]
  },
  {
   "cell_type": "code",
   "execution_count": 14,
   "metadata": {
    "colab": {
     "base_uri": "https://localhost:8080/",
     "height": 34
    },
    "colab_type": "code",
    "id": "uFugSK8cmKuJ",
    "outputId": "92ba0053-d2ac-4f47-d1e0-785fa4976474"
   },
   "outputs": [
    {
     "name": "stdout",
     "output_type": "stream",
     "text": [
      "Accuracy for Decision Tree (on X_test): 0.751\n"
     ]
    }
   ],
   "source": [
    "from sklearn.tree import DecisionTreeClassifier\n",
    "classifier = DecisionTreeClassifier(random_state=1) # Added random_state for reproducibility\n",
    "classifier.fit(X_train, y_train)\n",
    "y_pred = classifier.predict(X_test)\n",
    "# from sklearn.metrics import classification_report, confusion_matrix # This line was commented out\n",
    "# print(confusion_matrix(y_test, y_pred))\n",
    "from sklearn.metrics import accuracy_score\n",
    "print(f\"Accuracy for Decision Tree (on X_test): {accuracy_score(y_test, y_pred, normalize=True):.3f}\")\n"
   ]
  },
  {
   "cell_type": "code",
   "execution_count": 15,
   "metadata": {
    "colab": {
     "base_uri": "https://localhost:8080/",
     "height": 34
    },
    "colab_type": "code",
    "id": "cQXJsfN4nBkS",
    "outputId": "0d0b3181-dc00-427a-a1b4-79a723e692af"
   },
   "outputs": [
    {
     "name": "stdout",
     "output_type": "stream",
     "text": [
      "Accuracy for K-Nearest Neighbors (on X_test): 0.823\n"
     ]
    }
   ],
   "source": [
    "from sklearn.neighbors import KNeighborsClassifier\n",
    "classifier = KNeighborsClassifier(n_neighbors=5)\n",
    "classifier.fit(X_train, y_train)\n",
    "y_pred = classifier.predict(X_test)\n",
    "from sklearn.metrics import accuracy_score\n",
    "print(f\"Accuracy for K-Nearest Neighbors (on X_test): {accuracy_score(y_test, y_pred, normalize=True):.3f}\")"
   ]
  },
  {
   "cell_type": "code",
   "execution_count": null,
   "metadata": {
    "colab": {
     "base_uri": "https://localhost:8080/",
     "height": 224
    },
    "colab_type": "code",
    "id": "2kagT1yZ8ZcZ",
    "outputId": "ce127ffa-e259-4f4c-e2ab-e32667ff6bc7"
   },
   "outputs": [
    {
     "name": "stdout",
     "output_type": "stream",
     "text": [
      "Mean cross-validation accuracy for SMOTE + Voting Ensemble (on X_train): 0.772\n",
      "Test accuracy for SMOTE + Voting Ensemble (on X_test): 0.746\n"
     ]
    },
    {
     "name": "stderr",
     "output_type": "stream",
     "text": [
      "Exception ignored in: <function ResourceTracker.__del__ at 0x10706a8e0>\n",
      "Traceback (most recent call last):\n",
      "  File \"/opt/homebrew/Cellar/python@3.13/3.13.3_1/Frameworks/Python.framework/Versions/3.13/lib/python3.13/multiprocessing/resource_tracker.py\", line 82, in __del__\n",
      "  File \"/opt/homebrew/Cellar/python@3.13/3.13.3_1/Frameworks/Python.framework/Versions/3.13/lib/python3.13/multiprocessing/resource_tracker.py\", line 91, in _stop\n",
      "  File \"/opt/homebrew/Cellar/python@3.13/3.13.3_1/Frameworks/Python.framework/Versions/3.13/lib/python3.13/multiprocessing/resource_tracker.py\", line 116, in _stop_locked\n",
      "ChildProcessError: [Errno 10] No child processes\n",
      "Exception ignored in: <function ResourceTracker.__del__ at 0x10494e8e0>\n",
      "Traceback (most recent call last):\n",
      "  File \"/opt/homebrew/Cellar/python@3.13/3.13.3_1/Frameworks/Python.framework/Versions/3.13/lib/python3.13/multiprocessing/resource_tracker.py\", line 82, in __del__\n",
      "  File \"/opt/homebrew/Cellar/python@3.13/3.13.3_1/Frameworks/Python.framework/Versions/3.13/lib/python3.13/multiprocessing/resource_tracker.py\", line 91, in _stop\n",
      "  File \"/opt/homebrew/Cellar/python@3.13/3.13.3_1/Frameworks/Python.framework/Versions/3.13/lib/python3.13/multiprocessing/resource_tracker.py\", line 116, in _stop_locked\n",
      "ChildProcessError: [Errno 10] No child processes\n",
      "Exception ignored in: <function ResourceTracker.__del__ at 0x10322e8e0>\n",
      "Traceback (most recent call last):\n",
      "  File \"/opt/homebrew/Cellar/python@3.13/3.13.3_1/Frameworks/Python.framework/Versions/3.13/lib/python3.13/multiprocessing/resource_tracker.py\", line 82, in __del__\n",
      "  File \"/opt/homebrew/Cellar/python@3.13/3.13.3_1/Frameworks/Python.framework/Versions/3.13/lib/python3.13/multiprocessing/resource_tracker.py\", line 91, in _stop\n",
      "  File \"/opt/homebrew/Cellar/python@3.13/3.13.3_1/Frameworks/Python.framework/Versions/3.13/lib/python3.13/multiprocessing/resource_tracker.py\", line 116, in _stop_locked\n",
      "ChildProcessError: [Errno 10] No child processes\n",
      "Exception ignored in: <function ResourceTracker.__del__ at 0x1093d68e0>\n",
      "Traceback (most recent call last):\n",
      "  File \"/opt/homebrew/Cellar/python@3.13/3.13.3_1/Frameworks/Python.framework/Versions/3.13/lib/python3.13/multiprocessing/resource_tracker.py\", line 82, in __del__\n",
      "  File \"/opt/homebrew/Cellar/python@3.13/3.13.3_1/Frameworks/Python.framework/Versions/3.13/lib/python3.13/multiprocessing/resource_tracker.py\", line 91, in _stop\n",
      "  File \"/opt/homebrew/Cellar/python@3.13/3.13.3_1/Frameworks/Python.framework/Versions/3.13/lib/python3.13/multiprocessing/resource_tracker.py\", line 116, in _stop_locked\n",
      "ChildProcessError: [Errno 10] No child processes\n",
      "Exception ignored in: <function ResourceTracker.__del__ at 0x1053668e0>\n",
      "Traceback (most recent call last):\n",
      "  File \"/opt/homebrew/Cellar/python@3.13/3.13.3_1/Frameworks/Python.framework/Versions/3.13/lib/python3.13/multiprocessing/resource_tracker.py\", line 82, in __del__\n",
      "  File \"/opt/homebrew/Cellar/python@3.13/3.13.3_1/Frameworks/Python.framework/Versions/3.13/lib/python3.13/multiprocessing/resource_tracker.py\", line 91, in _stop\n",
      "  File \"/opt/homebrew/Cellar/python@3.13/3.13.3_1/Frameworks/Python.framework/Versions/3.13/lib/python3.13/multiprocessing/resource_tracker.py\", line 116, in _stop_locked\n",
      "ChildProcessError: [Errno 10] No child processes\n",
      "Exception ignored in: <function ResourceTracker.__del__ at 0x1050668e0>\n",
      "Traceback (most recent call last):\n",
      "  File \"/opt/homebrew/Cellar/python@3.13/3.13.3_1/Frameworks/Python.framework/Versions/3.13/lib/python3.13/multiprocessing/resource_tracker.py\", line 82, in __del__\n",
      "  File \"/opt/homebrew/Cellar/python@3.13/3.13.3_1/Frameworks/Python.framework/Versions/3.13/lib/python3.13/multiprocessing/resource_tracker.py\", line 91, in _stop\n",
      "  File \"/opt/homebrew/Cellar/python@3.13/3.13.3_1/Frameworks/Python.framework/Versions/3.13/lib/python3.13/multiprocessing/resource_tracker.py\", line 116, in _stop_locked\n",
      "ChildProcessError: [Errno 10] No child processes\n",
      "Exception ignored in: <function ResourceTracker.__del__ at 0x105b668e0>\n",
      "Traceback (most recent call last):\n",
      "  File \"/opt/homebrew/Cellar/python@3.13/3.13.3_1/Frameworks/Python.framework/Versions/3.13/lib/python3.13/multiprocessing/resource_tracker.py\", line 82, in __del__\n",
      "  File \"/opt/homebrew/Cellar/python@3.13/3.13.3_1/Frameworks/Python.framework/Versions/3.13/lib/python3.13/multiprocessing/resource_tracker.py\", line 91, in _stop\n",
      "  File \"/opt/homebrew/Cellar/python@3.13/3.13.3_1/Frameworks/Python.framework/Versions/3.13/lib/python3.13/multiprocessing/resource_tracker.py\", line 116, in _stop_locked\n",
      "ChildProcessError: [Errno 10] No child processes\n",
      "Exception ignored in: <function ResourceTracker.__del__ at 0x11963e8e0>\n",
      "Traceback (most recent call last):\n",
      "  File \"/opt/homebrew/Cellar/python@3.13/3.13.3_1/Frameworks/Python.framework/Versions/3.13/lib/python3.13/multiprocessing/resource_tracker.py\", line 82, in __del__\n",
      "  File \"/opt/homebrew/Cellar/python@3.13/3.13.3_1/Frameworks/Python.framework/Versions/3.13/lib/python3.13/multiprocessing/resource_tracker.py\", line 91, in _stop\n",
      "  File \"/opt/homebrew/Cellar/python@3.13/3.13.3_1/Frameworks/Python.framework/Versions/3.13/lib/python3.13/multiprocessing/resource_tracker.py\", line 116, in _stop_locked\n",
      "ChildProcessError: [Errno 10] No child processes\n"
     ]
    }
   ],
   "source": [
    "# %%\n",
    "\n",
    "# Voting Ensemble for Classification\n",
    "from sklearn import model_selection # Already imported, but good to be explicit if used as model_selection.KFold\n",
    "from sklearn.linear_model import LogisticRegression # Already imported\n",
    "from sklearn.neighbors import KNeighborsClassifier # Imported in a previous cell\n",
    "from sklearn.ensemble import VotingClassifier # Already imported\n",
    "from imblearn.over_sampling import SMOTE # Already imported\n",
    "from imblearn.pipeline import Pipeline # Already imported\n",
    "from numpy import mean # Already imported\n",
    "from sklearn.model_selection import RepeatedStratifiedKFold # Already imported\n",
    "\n",
    "# Define the cross-validation strategy (using RepeatedStratifiedKFold for consistency)\n",
    "# Using n_splits=5 as in your KFold, and n_repeats=3 as in your earlier CV.\n",
    "cv_ensemble_strategy = RepeatedStratifiedKFold(n_splits=5, n_repeats=3, random_state=1)\n",
    "\n",
    "# Create the sub models (unfitted instances)\n",
    "estimators_list = []\n",
    "# Ensuring max_iter is set for LogisticRegression if dataset is complex or default is insufficient.\n",
    "logistic_model_ensemble = LogisticRegression(max_iter=1000, random_state=1)\n",
    "estimators_list.append(('logistic', logistic_model_ensemble))\n",
    "\n",
    "knn_model_ensemble = KNeighborsClassifier(n_neighbors=3) # Your original was (n_neighbors=3)\n",
    "estimators_list.append(('knn', knn_model_ensemble)) # Changed 'cart' to 'knn' for clarity, as it's KNN\n",
    "\n",
    "# Create the ensemble model with the unfitted estimators\n",
    "ensemble_clf = VotingClassifier(estimators=estimators_list)\n",
    "\n",
    "# Define SMOTE strategy (can reuse over_sampler or define new if different params)\n",
    "# Note: Ensure sampling_strategy=0.1 is appropriate for your data's imbalance.\n",
    "smote_for_ensemble = SMOTE(sampling_strategy=1, random_state=1) # Added random_state\n",
    "\n",
    "# Create the pipeline: SMOTE followed by the ensemble model\n",
    "# The ensemble_clf (VotingClassifier) will internally fit its estimators.\n",
    "smote_ensemble_pipeline = Pipeline(steps=[('smote', smote_for_ensemble), # Changed 'over' to 'smote' for clarity\n",
    "                                          ('ensemble', ensemble_clf)]) # Changed 'model' to 'ensemble'\n",
    "\n",
    "# Perform cross-validation on the training data (X_train, y_train)\n",
    "# The default scoring for VotingClassifier is accuracy.\n",
    "# If you want ROC AUC, specify scoring='roc_auc'.\n",
    "# The original code printed results.mean() which usually implies accuracy for classifiers if not specified.\n",
    "ensemble_cv_results = model_selection.cross_val_score(smote_ensemble_pipeline,\n",
    "                                                      X_train,\n",
    "                                                      y_train,\n",
    "                                                      cv=cv_ensemble_strategy,\n",
    "                                                      scoring='accuracy', # Explicitly stating accuracy\n",
    "                                                      n_jobs=-1)\n",
    "\n",
    "print(f\"Mean cross-validation accuracy for SMOTE + Voting Ensemble (on X_train): {ensemble_cv_results.mean():.3f}\")\n",
    "\n",
    "# Optional: To train the final SMOTE + ensemble pipeline on all X_train and evaluate on X_test\n",
    "smote_ensemble_pipeline.fit(X_train, y_train)\n",
    "test_accuracy_ensemble = smote_ensemble_pipeline.score(X_test, y_test)\n",
    "print(f\"Test accuracy for SMOTE + Voting Ensemble (on X_test): {test_accuracy_ensemble:.3f}\")"
   ]
  },
  {
   "cell_type": "markdown",
   "metadata": {},
   "source": [
    "# ECE 228 Optimizations #"
   ]
  },
  {
   "cell_type": "markdown",
   "metadata": {},
   "source": [
    "### Cleveland Dataset ###"
   ]
  },
  {
   "cell_type": "markdown",
   "metadata": {},
   "source": []
  },
  {
   "cell_type": "code",
   "execution_count": 17,
   "metadata": {},
   "outputs": [
    {
     "name": "stdout",
     "output_type": "stream",
     "text": [
      "Collecting liac-arff\n",
      "  Downloading liac-arff-2.5.0.tar.gz (13 kB)\n",
      "  Preparing metadata (setup.py) ... \u001b[?25ldone\n",
      "\u001b[?25hBuilding wheels for collected packages: liac-arff\n",
      "\u001b[33m  DEPRECATION: Building 'liac-arff' using the legacy setup.py bdist_wheel mechanism, which will be removed in a future version. pip 25.3 will enforce this behaviour change. A possible replacement is to use the standardized build interface by setting the `--use-pep517` option, (possibly combined with `--no-build-isolation`), or adding a `pyproject.toml` file to the source tree of 'liac-arff'. Discussion can be found at https://github.com/pypa/pip/issues/6334\u001b[0m\u001b[33m\n",
      "\u001b[0m  Building wheel for liac-arff (setup.py) ... \u001b[?25ldone\n",
      "\u001b[?25h  Created wheel for liac-arff: filename=liac_arff-2.5.0-py3-none-any.whl size=11771 sha256=260d24c5d4dc523fb5571a2db9b19781257c9818210e86d49cd8d03abbc7ecb6\n",
      "  Stored in directory: /Users/ashwinrohit/Library/Caches/pip/wheels/93/f3/5b/658a9bddee916a5f4b84bdc1a4e0fabd22fb17947c2c9542e6\n",
      "Successfully built liac-arff\n",
      "Installing collected packages: liac-arff\n",
      "Successfully installed liac-arff-2.5.0\n"
     ]
    },
    {
     "name": "stderr",
     "output_type": "stream",
     "text": [
      "Exception ignored in: <function ResourceTracker.__del__ at 0x107ad28e0>\n",
      "Traceback (most recent call last):\n",
      "  File \"/opt/homebrew/Cellar/python@3.13/3.13.3_1/Frameworks/Python.framework/Versions/3.13/lib/python3.13/multiprocessing/resource_tracker.py\", line 82, in __del__\n",
      "  File \"/opt/homebrew/Cellar/python@3.13/3.13.3_1/Frameworks/Python.framework/Versions/3.13/lib/python3.13/multiprocessing/resource_tracker.py\", line 91, in _stop\n",
      "  File \"/opt/homebrew/Cellar/python@3.13/3.13.3_1/Frameworks/Python.framework/Versions/3.13/lib/python3.13/multiprocessing/resource_tracker.py\", line 116, in _stop_locked\n",
      "ChildProcessError: [Errno 10] No child processes\n",
      "Exception ignored in: <function ResourceTracker.__del__ at 0x1023228e0>\n",
      "Traceback (most recent call last):\n",
      "  File \"/opt/homebrew/Cellar/python@3.13/3.13.3_1/Frameworks/Python.framework/Versions/3.13/lib/python3.13/multiprocessing/resource_tracker.py\", line 82, in __del__\n",
      "  File \"/opt/homebrew/Cellar/python@3.13/3.13.3_1/Frameworks/Python.framework/Versions/3.13/lib/python3.13/multiprocessing/resource_tracker.py\", line 91, in _stop\n",
      "  File \"/opt/homebrew/Cellar/python@3.13/3.13.3_1/Frameworks/Python.framework/Versions/3.13/lib/python3.13/multiprocessing/resource_tracker.py\", line 116, in _stop_locked\n",
      "ChildProcessError: [Errno 10] No child processes\n",
      "Exception ignored in: <function ResourceTracker.__del__ at 0x107b468e0>\n",
      "Traceback (most recent call last):\n",
      "  File \"/opt/homebrew/Cellar/python@3.13/3.13.3_1/Frameworks/Python.framework/Versions/3.13/lib/python3.13/multiprocessing/resource_tracker.py\", line 82, in __del__\n",
      "  File \"/opt/homebrew/Cellar/python@3.13/3.13.3_1/Frameworks/Python.framework/Versions/3.13/lib/python3.13/multiprocessing/resource_tracker.py\", line 91, in _stop\n",
      "  File \"/opt/homebrew/Cellar/python@3.13/3.13.3_1/Frameworks/Python.framework/Versions/3.13/lib/python3.13/multiprocessing/resource_tracker.py\", line 116, in _stop_locked\n",
      "ChildProcessError: [Errno 10] No child processes\n",
      "Exception ignored in: <function ResourceTracker.__del__ at 0x1077428e0>\n",
      "Traceback (most recent call last):\n",
      "  File \"/opt/homebrew/Cellar/python@3.13/3.13.3_1/Frameworks/Python.framework/Versions/3.13/lib/python3.13/multiprocessing/resource_tracker.py\", line 82, in __del__\n",
      "  File \"/opt/homebrew/Cellar/python@3.13/3.13.3_1/Frameworks/Python.framework/Versions/3.13/lib/python3.13/multiprocessing/resource_tracker.py\", line 91, in _stop\n",
      "  File \"/opt/homebrew/Cellar/python@3.13/3.13.3_1/Frameworks/Python.framework/Versions/3.13/lib/python3.13/multiprocessing/resource_tracker.py\", line 116, in _stop_locked\n",
      "ChildProcessError: [Errno 10] No child processes\n",
      "Exception ignored in: <function ResourceTracker.__del__ at 0x105f668e0>\n",
      "Traceback (most recent call last):\n",
      "  File \"/opt/homebrew/Cellar/python@3.13/3.13.3_1/Frameworks/Python.framework/Versions/3.13/lib/python3.13/multiprocessing/resource_tracker.py\", line 82, in __del__\n",
      "  File \"/opt/homebrew/Cellar/python@3.13/3.13.3_1/Frameworks/Python.framework/Versions/3.13/lib/python3.13/multiprocessing/resource_tracker.py\", line 91, in _stop\n",
      "  File \"/opt/homebrew/Cellar/python@3.13/3.13.3_1/Frameworks/Python.framework/Versions/3.13/lib/python3.13/multiprocessing/resource_tracker.py\", line 116, in _stop_locked\n",
      "ChildProcessError: [Errno 10] No child processes\n",
      "Exception ignored in: <function ResourceTracker.__del__ at 0x104ea28e0>\n",
      "Traceback (most recent call last):\n",
      "  File \"/opt/homebrew/Cellar/python@3.13/3.13.3_1/Frameworks/Python.framework/Versions/3.13/lib/python3.13/multiprocessing/resource_tracker.py\", line 82, in __del__\n",
      "  File \"/opt/homebrew/Cellar/python@3.13/3.13.3_1/Frameworks/Python.framework/Versions/3.13/lib/python3.13/multiprocessing/resource_tracker.py\", line 91, in _stop\n",
      "  File \"/opt/homebrew/Cellar/python@3.13/3.13.3_1/Frameworks/Python.framework/Versions/3.13/lib/python3.13/multiprocessing/resource_tracker.py\", line 116, in _stop_locked\n",
      "ChildProcessError: [Errno 10] No child processes\n",
      "Exception ignored in: <function ResourceTracker.__del__ at 0x1044828e0>\n",
      "Traceback (most recent call last):\n",
      "  File \"/opt/homebrew/Cellar/python@3.13/3.13.3_1/Frameworks/Python.framework/Versions/3.13/lib/python3.13/multiprocessing/resource_tracker.py\", line 82, in __del__\n",
      "  File \"/opt/homebrew/Cellar/python@3.13/3.13.3_1/Frameworks/Python.framework/Versions/3.13/lib/python3.13/multiprocessing/resource_tracker.py\", line 91, in _stop\n",
      "  File \"/opt/homebrew/Cellar/python@3.13/3.13.3_1/Frameworks/Python.framework/Versions/3.13/lib/python3.13/multiprocessing/resource_tracker.py\", line 116, in _stop_locked\n",
      "ChildProcessError: [Errno 10] No child processes\n",
      "Exception ignored in: <function ResourceTracker.__del__ at 0x1030468e0>\n",
      "Traceback (most recent call last):\n",
      "  File \"/opt/homebrew/Cellar/python@3.13/3.13.3_1/Frameworks/Python.framework/Versions/3.13/lib/python3.13/multiprocessing/resource_tracker.py\", line 82, in __del__\n",
      "  File \"/opt/homebrew/Cellar/python@3.13/3.13.3_1/Frameworks/Python.framework/Versions/3.13/lib/python3.13/multiprocessing/resource_tracker.py\", line 91, in _stop\n",
      "  File \"/opt/homebrew/Cellar/python@3.13/3.13.3_1/Frameworks/Python.framework/Versions/3.13/lib/python3.13/multiprocessing/resource_tracker.py\", line 116, in _stop_locked\n",
      "ChildProcessError: [Errno 10] No child processes\n"
     ]
    }
   ],
   "source": [
    "!pip3 install liac-arff"
   ]
  },
  {
   "cell_type": "code",
   "execution_count": 15,
   "metadata": {},
   "outputs": [],
   "source": [
    "import arff\n",
    "\n",
    "def parse_arff_to_csv(arff_path, csv_path):\n",
    "    with open(arff_path, 'r') as f:\n",
    "        lines = f.readlines()\n",
    "\n",
    "    data_start = False\n",
    "    data = []\n",
    "    columns = []\n",
    "\n",
    "    for line in lines:\n",
    "        line = line.strip()\n",
    "        if line.lower().startswith('@attribute'):\n",
    "            parts = line.split()\n",
    "            if len(parts) >= 2:\n",
    "                columns.append(parts[1])\n",
    "        elif line.lower() == '@data':\n",
    "            data_start = True\n",
    "        elif data_start and line and not line.startswith('%'):\n",
    "            data.append([x.strip() for x in line.split(',')])\n",
    "\n",
    "    df = pd.DataFrame(data, columns=columns)\n",
    "    df.replace('?', pd.NA, inplace=True)\n",
    "    df = df.apply(pd.to_numeric, errors='ignore')\n",
    "    df.to_csv(csv_path, index=False)\n",
    "    print(f\"Saved CSV to: {csv_path}\")"
   ]
  },
  {
   "cell_type": "code",
   "execution_count": 16,
   "metadata": {},
   "outputs": [
    {
     "name": "stdout",
     "output_type": "stream",
     "text": [
      "Saved CSV to: Cleveland/cleveland.csv\n"
     ]
    },
    {
     "name": "stderr",
     "output_type": "stream",
     "text": [
      "/var/folders/yh/g8lsgn2s0z99hpcgxxf899dw0000gn/T/ipykernel_23936/1153347187.py:24: FutureWarning: errors='ignore' is deprecated and will raise in a future version. Use to_numeric without passing `errors` and catch exceptions explicitly instead\n",
      "  df = df.apply(pd.to_numeric, errors='ignore')\n"
     ]
    }
   ],
   "source": [
    "parse_arff_to_csv('Cleveland/cleveland.dat', 'Cleveland/cleveland.csv')"
   ]
  },
  {
   "cell_type": "code",
   "execution_count": 17,
   "metadata": {},
   "outputs": [],
   "source": [
    "column_names = [\n",
    "    \"age\", \"sex\", \"cp\", \"trestbps\", \"chol\", \"fbs\", \"restecg\",\n",
    "    \"thalach\", \"exang\", \"oldpeak\", \"slope\", \"ca\", \"thal\", \"target\"\n",
    "]\n",
    "\n",
    "# Load the parsed Cleveland dataset\n",
    "df_cleveland = pd.read_csv('Cleveland/cleveland.csv', names=column_names, header=0)\n",
    "\n",
    "# Ensure types are correct and handle missing values\n",
    "df_cleveland = df_cleveland.replace('?', pd.NA)\n",
    "df_cleveland = df_cleveland.apply(pd.to_numeric, errors='coerce')"
   ]
  },
  {
   "cell_type": "markdown",
   "metadata": {},
   "source": [
    "### Heart + Disease Dataset ###"
   ]
  },
  {
   "cell_type": "code",
   "execution_count": 18,
   "metadata": {},
   "outputs": [],
   "source": [
    "column_names = [\n",
    "    \"age\", \"sex\", \"cp\", \"trestbps\", \"chol\", \"fbs\", \"restecg\",\n",
    "    \"thalach\", \"exang\", \"oldpeak\", \"slope\", \"ca\", \"thal\", \"target\"\n",
    "]"
   ]
  },
  {
   "cell_type": "code",
   "execution_count": 19,
   "metadata": {},
   "outputs": [],
   "source": [
    "files = [\n",
    "    \"heart+disease/processed.cleveland.data\",\n",
    "    \"heart+disease/reprocessed.hungarian.data\",\n",
    "    \"heart+disease/processed.switzerland.data\",\n",
    "    \"heart+disease/processed.va.data\"\n",
    "]\n",
    "\n",
    "dfs = []\n",
    "\n",
    "for file in files:\n",
    "    df = pd.read_csv(file, header=None, names=column_names, na_values='?')\n",
    "    dfs.append(df)\n",
    "\n",
    "# Combine all\n",
    "df_heart_disease = pd.concat(dfs, ignore_index=True)"
   ]
  },
  {
   "cell_type": "code",
   "execution_count": 20,
   "metadata": {},
   "outputs": [
    {
     "name": "stdout",
     "output_type": "stream",
     "text": [
      "Framingham:  200\n",
      "Cleveland:  303\n",
      "Heart Disease:  920\n"
     ]
    }
   ],
   "source": [
    "# Shows lengths of the three datasets we use\n",
    "print(\"Framingham: \", len(df))\n",
    "print(\"Cleveland: \", len(df_cleveland))\n",
    "print(\"Heart Disease: \", len(df_heart_disease))"
   ]
  },
  {
   "cell_type": "code",
   "execution_count": 21,
   "metadata": {},
   "outputs": [],
   "source": [
    "df_heart_disease.to_csv(\"heart_disease.csv\", index=False)"
   ]
  },
  {
   "cell_type": "code",
   "execution_count": 18,
   "metadata": {},
   "outputs": [
    {
     "name": "stdout",
     "output_type": "stream",
     "text": [
      "Proportions in TenYearCHD column:\n",
      "TenYearCHD\n",
      "0    0.848113\n",
      "1    0.151887\n",
      "Name: proportion, dtype: float64\n"
     ]
    },
    {
     "data": {
      "image/png": "[encoded data removed]",
      "text/plain": [
       "<Figure size 800x500 with 1 Axes>"
      ]
     },
     "metadata": {},
     "output_type": "display_data"
    }
   ],
   "source": [
    "# Load the original framingham dataset\n",
    "df_original = pd.read_csv('framingham.csv')\n",
    "\n",
    "# Get the name of the last column\n",
    "last_column = df_original.columns[-1]\n",
    "\n",
    "# Calculate proportions of 0s vs 1s in the target column\n",
    "target_proportions = df_original[last_column].value_counts(normalize=True)\n",
    "\n",
    "# Print the proportions\n",
    "print(f\"Proportions in {last_column} column:\")\n",
    "print(target_proportions)\n",
    "\n",
    "# Create a bar plot to visualize the class distribution\n",
    "plt.figure(figsize=(8, 5))\n",
    "target_proportions.plot(kind='bar', color=['skyblue', 'salmon'])\n",
    "plt.title(f'Class Distribution in {last_column}')\n",
    "plt.xlabel('Class')\n",
    "plt.ylabel('Proportion')\n",
    "plt.xticks(rotation=0)\n",
    "plt.tight_layout()\n",
    "plt.show()"
   ]
  },
  {
   "cell_type": "code",
   "execution_count": 25,
   "metadata": {},
   "outputs": [
    {
     "name": "stdout",
     "output_type": "stream",
     "text": [
      "Handling missing values by mean imputation...\n",
      "Missing values handled.\n",
      "\n",
      "## Determining Most Important Features (using RandomForest):\n",
      "            feature  importance\n",
      "10            sysBP    0.130597\n",
      "12              BMI    0.127503\n",
      "1               age    0.126334\n",
      "9           totChol    0.123492\n",
      "14          glucose    0.118363\n",
      "11            diaBP    0.110702\n",
      "13        heartRate    0.095294\n",
      "4        cigsPerDay    0.050460\n",
      "2         education    0.041157\n",
      "0              male    0.018898\n",
      "7      prevalentHyp    0.018123\n",
      "3     currentSmoker    0.012965\n",
      "5            BPMeds    0.011895\n",
      "8          diabetes    0.008236\n",
      "6   prevalentStroke    0.005980\n",
      "\n",
      "============================================================\n",
      "\n",
      "## Logistic Regression without SMOTE:\n",
      "Accuracy: 0.8443\n",
      "Classification Report:\n",
      "              precision    recall  f1-score   support\n",
      "\n",
      "           0       0.85      0.99      0.91       719\n",
      "           1       0.41      0.05      0.10       129\n",
      "\n",
      "    accuracy                           0.84       848\n",
      "   macro avg       0.63      0.52      0.51       848\n",
      "weighted avg       0.79      0.84      0.79       848\n",
      "\n",
      "\n",
      "============================================================\n",
      "\n",
      "## Ensemble (Logistic Regression + KNN) without SMOTE:\n",
      "Accuracy: 0.8502\n",
      "Classification Report:\n",
      "              precision    recall  f1-score   support\n",
      "\n",
      "           0       0.85      1.00      0.92       719\n",
      "           1       0.67      0.03      0.06       129\n",
      "\n",
      "    accuracy                           0.85       848\n",
      "   macro avg       0.76      0.51      0.49       848\n",
      "weighted avg       0.82      0.85      0.79       848\n",
      "\n",
      "\n",
      "============================================================\n",
      "\n",
      "Class distribution in original training data:\n",
      "TenYearCHD\n",
      "0    2877\n",
      "1     515\n",
      "Name: count, dtype: int64\n",
      "\n",
      "Class distribution in SMOTE'd training data:\n",
      "TenYearCHD\n",
      "0    2877\n",
      "1    2877\n",
      "Name: count, dtype: int64\n",
      "Shape of training data before SMOTE: (3392, 15)\n",
      "Shape of training data after SMOTE: (5754, 15)\n",
      "\n",
      "============================================================\n",
      "\n",
      "## Logistic Regression with SMOTE:\n",
      "Accuracy: 0.6698\n",
      "Classification Report:\n",
      "              precision    recall  f1-score   support\n",
      "\n",
      "           0       0.91      0.68      0.78       719\n",
      "           1       0.26      0.61      0.36       129\n",
      "\n",
      "    accuracy                           0.67       848\n",
      "   macro avg       0.58      0.65      0.57       848\n",
      "weighted avg       0.81      0.67      0.71       848\n",
      "\n",
      "\n",
      "============================================================\n",
      "\n",
      "## Ensemble (Logistic Regression + KNN) with SMOTE:\n",
      "Accuracy: 0.7547\n",
      "Classification Report:\n",
      "              precision    recall  f1-score   support\n",
      "\n",
      "           0       0.88      0.82      0.85       719\n",
      "           1       0.27      0.36      0.31       129\n",
      "\n",
      "    accuracy                           0.75       848\n",
      "   macro avg       0.58      0.59      0.58       848\n",
      "weighted avg       0.79      0.75      0.77       848\n",
      "\n",
      "\n",
      "============================================================\n",
      "\n",
      "SMOTE-augmented training dataset saved to 'framingham_extended.csv'\n",
      "Shape of the extended dataset: (5754, 16)\n"
     ]
    }
   ],
   "source": [
    "import pandas as pd\n",
    "import numpy as np\n",
    "from sklearn.model_selection import train_test_split\n",
    "from sklearn.impute import SimpleImputer\n",
    "from sklearn.preprocessing import StandardScaler\n",
    "from sklearn.linear_model import LogisticRegression\n",
    "from sklearn.neighbors import KNeighborsClassifier\n",
    "from sklearn.ensemble import RandomForestClassifier, VotingClassifier\n",
    "from sklearn.metrics import accuracy_score, classification_report\n",
    "from imblearn.over_sampling import SMOTE\n",
    "import warnings\n",
    "\n",
    "# Suppress warnings for cleaner output (optional)\n",
    "warnings.filterwarnings('ignore', category=FutureWarning)\n",
    "warnings.filterwarnings('ignore', category=UserWarning)\n",
    "\n",
    "\n",
    "# Load the dataset\n",
    "try:\n",
    "    df = pd.read_csv('framingham.csv')\n",
    "except FileNotFoundError:\n",
    "    print(\"Error: 'framingham.csv' not found. Please ensure the file is in the correct directory.\")\n",
    "    exit()\n",
    "\n",
    "# 1. Handle Missing Values: Replace with mean of the column\n",
    "print(\"Handling missing values by mean imputation...\")\n",
    "for column in df.columns:\n",
    "    if df[column].isnull().any():\n",
    "        df[column] = df[column].fillna(df[column].mean())\n",
    "print(\"Missing values handled.\\n\")\n",
    "\n",
    "# 2. Prepare Data (Features and Target)\n",
    "X = df.drop('TenYearCHD', axis=1)\n",
    "y = df['TenYearCHD']\n",
    "feature_names = X.columns\n",
    "\n",
    "# 3. Split Data\n",
    "# Stratify by y to maintain class proportion in train/test sets\n",
    "X_train, X_test, y_train, y_test = train_test_split(X, y, test_size=0.2, random_state=42, stratify=y)\n",
    "\n",
    "# 4. Scale Features\n",
    "# Scaling is important for Logistic Regression, KNN, and for interpreting feature importances fairly\n",
    "scaler = StandardScaler()\n",
    "X_train_scaled = scaler.fit_transform(X_train)\n",
    "X_test_scaled = scaler.transform(X_test)\n",
    "\n",
    "# Convert scaled arrays back to DataFrames for easier use and feature names\n",
    "X_train_scaled_df = pd.DataFrame(X_train_scaled, columns=feature_names)\n",
    "X_test_scaled_df = pd.DataFrame(X_test_scaled, columns=feature_names)\n",
    "\n",
    "# 5. Feature Importance\n",
    "print(\"## Determining Most Important Features (using RandomForest):\")\n",
    "# Using RandomForestClassifier to find feature importances from the scaled training data\n",
    "rf_model_fi = RandomForestClassifier(n_estimators=100, random_state=42)\n",
    "rf_model_fi.fit(X_train_scaled_df, y_train)\n",
    "importances = rf_model_fi.feature_importances_\n",
    "feature_importance_df = pd.DataFrame({'feature': feature_names, 'importance': importances})\n",
    "feature_importance_df = feature_importance_df.sort_values(by='importance', ascending=False)\n",
    "print(feature_importance_df)\n",
    "print(\"\\n\" + \"=\"*60 + \"\\n\")\n",
    "\n",
    "# 6. Logistic Regression without SMOTE\n",
    "print(\"## Logistic Regression without SMOTE:\")\n",
    "log_reg_no_smote = LogisticRegression(random_state=42, solver='liblinear', max_iter=1000)\n",
    "log_reg_no_smote.fit(X_train_scaled_df, y_train)\n",
    "y_pred_lr_no_smote = log_reg_no_smote.predict(X_test_scaled_df)\n",
    "accuracy_lr_no_smote = accuracy_score(y_test, y_pred_lr_no_smote)\n",
    "print(f\"Accuracy: {accuracy_lr_no_smote:.4f}\")\n",
    "print(\"Classification Report:\")\n",
    "print(classification_report(y_test, y_pred_lr_no_smote, zero_division=0))\n",
    "print(\"\\n\" + \"=\"*60 + \"\\n\")\n",
    "\n",
    "# 7. Ensembling (KNN and Logistic Regression) without SMOTE  <-- NEW SECTION\n",
    "print(\"## Ensemble (Logistic Regression + KNN) without SMOTE:\")\n",
    "# KNN model trained on original (scaled) training data\n",
    "knn_no_smote = KNeighborsClassifier(n_neighbors=5)\n",
    "knn_no_smote.fit(X_train_scaled_df, y_train)\n",
    "\n",
    "# Create a Voting Classifier using models trained on data without SMOTE\n",
    "# log_reg_no_smote is already trained\n",
    "ensemble_clf_no_smote = VotingClassifier(\n",
    "    estimators=[('lr', log_reg_no_smote), ('knn', knn_no_smote)],\n",
    "    voting='hard'\n",
    ")\n",
    "\n",
    "# Train the ensemble classifier on the original (scaled) training data\n",
    "ensemble_clf_no_smote.fit(X_train_scaled_df, y_train)\n",
    "# Evaluate the ensemble on the original (scaled) test set\n",
    "y_pred_ensemble_no_smote = ensemble_clf_no_smote.predict(X_test_scaled_df)\n",
    "accuracy_ensemble_no_smote = accuracy_score(y_test, y_pred_ensemble_no_smote)\n",
    "print(f\"Accuracy: {accuracy_ensemble_no_smote:.4f}\")\n",
    "print(\"Classification Report:\")\n",
    "print(classification_report(y_test, y_pred_ensemble_no_smote, zero_division=0))\n",
    "print(\"\\n\" + \"=\"*60 + \"\\n\")\n",
    "\n",
    "# 8. Apply SMOTE to the training data\n",
    "print(\"Class distribution in original training data:\")\n",
    "print(y_train.value_counts())\n",
    "\n",
    "smote = SMOTE(random_state=42)\n",
    "# Apply SMOTE only on the training data (scaled)\n",
    "X_train_smote, y_train_smote = smote.fit_resample(X_train_scaled_df, y_train)\n",
    "\n",
    "print(\"\\nClass distribution in SMOTE'd training data:\")\n",
    "print(y_train_smote.value_counts()) # Should show balanced classes\n",
    "print(f\"Shape of training data before SMOTE: {X_train_scaled_df.shape}\")\n",
    "print(f\"Shape of training data after SMOTE: {X_train_smote.shape}\")\n",
    "print(\"\\n\" + \"=\"*60 + \"\\n\")\n",
    "\n",
    "# 9. Logistic Regression with SMOTE\n",
    "print(\"## Logistic Regression with SMOTE:\")\n",
    "log_reg_smote = LogisticRegression(random_state=42, solver='liblinear', max_iter=1000)\n",
    "log_reg_smote.fit(X_train_smote, y_train_smote) # Train on SMOTE'd data\n",
    "# Evaluate on the original, un-SMOTE'd (but scaled) test set\n",
    "y_pred_lr_smote = log_reg_smote.predict(X_test_scaled_df)\n",
    "accuracy_lr_smote = accuracy_score(y_test, y_pred_lr_smote)\n",
    "print(f\"Accuracy: {accuracy_lr_smote:.4f}\")\n",
    "print(\"Classification Report:\")\n",
    "print(classification_report(y_test, y_pred_lr_smote, zero_division=0))\n",
    "print(\"\\n\" + \"=\"*60 + \"\\n\")\n",
    "\n",
    "# 10. Ensembling (KNN and Logistic Regression) with SMOTE\n",
    "print(\"## Ensemble (Logistic Regression + KNN) with SMOTE:\")\n",
    "# KNN model trained on SMOTE'd (scaled) training data\n",
    "knn_smote = KNeighborsClassifier(n_neighbors=5)\n",
    "knn_smote.fit(X_train_smote, y_train_smote)\n",
    "\n",
    "# Create a Voting Classifier using models trained on data with SMOTE\n",
    "# log_reg_smote is already trained\n",
    "ensemble_clf_smote = VotingClassifier(\n",
    "    estimators=[('lr', log_reg_smote), ('knn', knn_smote)],\n",
    "    voting='hard'\n",
    ")\n",
    "\n",
    "# Train the ensemble classifier on the SMOTE'd training data\n",
    "ensemble_clf_smote.fit(X_train_smote, y_train_smote)\n",
    "# Evaluate the ensemble on the original (scaled) test set\n",
    "y_pred_ensemble_smote = ensemble_clf_smote.predict(X_test_scaled_df)\n",
    "accuracy_ensemble_smote = accuracy_score(y_test, y_pred_ensemble_smote)\n",
    "print(f\"Accuracy: {accuracy_ensemble_smote:.4f}\")\n",
    "print(\"Classification Report:\")\n",
    "print(classification_report(y_test, y_pred_ensemble_smote, zero_division=0))\n",
    "print(\"\\n\" + \"=\"*60 + \"\\n\")\n",
    "\n",
    "# 11. Save the SMOTE-augmented training dataset\n",
    "# This dataset consists of the scaled features from the SMOTE'd training set and the corresponding target variable.\n",
    "# Create a DataFrame from the SMOTE'd training data (features)\n",
    "X_train_smote_df_save = pd.DataFrame(X_train_smote, columns=feature_names)\n",
    "# Create a Series for the SMOTE'd training data (target)\n",
    "y_train_smote_series_save = pd.Series(y_train_smote, name='TenYearCHD')\n",
    "\n",
    "# Concatenate features and target for the new CSV file\n",
    "framingham_extended_df = pd.concat([X_train_smote_df_save, y_train_smote_series_save], axis=1)\n",
    "try:\n",
    "    framingham_extended_df.to_csv('framingham_extended.csv', index=False)\n",
    "    print(f\"SMOTE-augmented training dataset saved to 'framingham_extended.csv'\")\n",
    "    print(f\"Shape of the extended dataset: {framingham_extended_df.shape}\")\n",
    "except Exception as e:\n",
    "    print(f\"Error saving 'framingham_extended.csv': {e}\")"
   ]
  },
  {
   "cell_type": "code",
   "execution_count": null,
   "metadata": {},
   "outputs": [],
   "source": []
  }
 ],
 "metadata": {
  "colab": {
   "collapsed_sections": [],
   "name": "Untitled15.ipynb",
   "provenance": []
  },
  "kernelspec": {
   "display_name": ".venv",
   "language": "python",
   "name": "python3"
  },
  "language_info": {
   "codemirror_mode": {
    "name": "ipython",
    "version": 3
   },
   "file_extension": ".py",
   "mimetype": "text/x-python",
   "name": "python",
   "nbconvert_exporter": "python",
   "pygments_lexer": "ipython3",
   "version": "3.13.3"
  }
 },
 "nbformat": 4,
 "nbformat_minor": 4
}
