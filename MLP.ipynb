{
 "cells": [
  {
   "cell_type": "code",
   "execution_count": 35,
   "metadata": {
    "colab": {
     "base_uri": "https://localhost:8080/",
     "height": 71
    },
    "colab_type": "code",
    "id": "6xTh2_Vh6K6V",
    "outputId": "a3344f6c-5fd3-48c9-ad1f-4d655284bf1a"
   },
   "outputs": [],
   "source": [
    "import pandas as pd\n",
    "import numpy as np\n",
    "import matplotlib.pyplot as plt\n",
    "import scipy.stats as st\n",
    "import seaborn as sns\n",
    "#import pandas_profiling\n",
    "from pydantic_settings import BaseSettings\n",
    "%matplotlib inline\n",
    "df = pd.read_csv('framingham.csv')"
   ]
  },
  {
   "cell_type": "code",
   "execution_count": 36,
   "metadata": {
    "colab": {
     "base_uri": "https://localhost:8080/",
     "height": 560
    },
    "colab_type": "code",
    "id": "D9y8mfuS6Ph3",
    "outputId": "b972417c-9dbf-4b1a-e94b-112671ef6bfc"
   },
   "outputs": [
    {
     "name": "stderr",
     "output_type": "stream",
     "text": [
      "/var/folders/_5/727fvmnd5yd54mwrh313s9600000gn/T/ipykernel_42147/3651101966.py:12: FutureWarning: A value is trying to be set on a copy of a DataFrame or Series through chained assignment using an inplace method.\n",
      "The behavior will change in pandas 3.0. This inplace method will never work because the intermediate object on which we are setting values always behaves as a copy.\n",
      "\n",
      "For example, when doing 'df[col].method(value, inplace=True)', try using 'df.method({col: value}, inplace=True)' or df[col] = df[col].method(value) instead, to perform the operation inplace on the original object.\n",
      "\n",
      "\n",
      "  df['BPMeds'].fillna(0, inplace = True)\n",
      "/var/folders/_5/727fvmnd5yd54mwrh313s9600000gn/T/ipykernel_42147/3651101966.py:13: FutureWarning: A value is trying to be set on a copy of a DataFrame or Series through chained assignment using an inplace method.\n",
      "The behavior will change in pandas 3.0. This inplace method will never work because the intermediate object on which we are setting values always behaves as a copy.\n",
      "\n",
      "For example, when doing 'df[col].method(value, inplace=True)', try using 'df.method({col: value}, inplace=True)' or df[col] = df[col].method(value) instead, to perform the operation inplace on the original object.\n",
      "\n",
      "\n",
      "  df['glucose'].fillna(df.glucose.mean(), inplace = True)\n",
      "/var/folders/_5/727fvmnd5yd54mwrh313s9600000gn/T/ipykernel_42147/3651101966.py:14: FutureWarning: A value is trying to be set on a copy of a DataFrame or Series through chained assignment using an inplace method.\n",
      "The behavior will change in pandas 3.0. This inplace method will never work because the intermediate object on which we are setting values always behaves as a copy.\n",
      "\n",
      "For example, when doing 'df[col].method(value, inplace=True)', try using 'df.method({col: value}, inplace=True)' or df[col] = df[col].method(value) instead, to perform the operation inplace on the original object.\n",
      "\n",
      "\n",
      "  df['totChol'].fillna(df.totChol.mean(), inplace = True)\n",
      "/var/folders/_5/727fvmnd5yd54mwrh313s9600000gn/T/ipykernel_42147/3651101966.py:15: FutureWarning: A value is trying to be set on a copy of a DataFrame or Series through chained assignment using an inplace method.\n",
      "The behavior will change in pandas 3.0. This inplace method will never work because the intermediate object on which we are setting values always behaves as a copy.\n",
      "\n",
      "For example, when doing 'df[col].method(value, inplace=True)', try using 'df.method({col: value}, inplace=True)' or df[col] = df[col].method(value) instead, to perform the operation inplace on the original object.\n",
      "\n",
      "\n",
      "  df['education'].fillna(1, inplace = True)\n",
      "/var/folders/_5/727fvmnd5yd54mwrh313s9600000gn/T/ipykernel_42147/3651101966.py:16: FutureWarning: A value is trying to be set on a copy of a DataFrame or Series through chained assignment using an inplace method.\n",
      "The behavior will change in pandas 3.0. This inplace method will never work because the intermediate object on which we are setting values always behaves as a copy.\n",
      "\n",
      "For example, when doing 'df[col].method(value, inplace=True)', try using 'df.method({col: value}, inplace=True)' or df[col] = df[col].method(value) instead, to perform the operation inplace on the original object.\n",
      "\n",
      "\n",
      "  df['BMI'].fillna(df.BMI.mean(), inplace = True)\n",
      "/var/folders/_5/727fvmnd5yd54mwrh313s9600000gn/T/ipykernel_42147/3651101966.py:17: FutureWarning: A value is trying to be set on a copy of a DataFrame or Series through chained assignment using an inplace method.\n",
      "The behavior will change in pandas 3.0. This inplace method will never work because the intermediate object on which we are setting values always behaves as a copy.\n",
      "\n",
      "For example, when doing 'df[col].method(value, inplace=True)', try using 'df.method({col: value}, inplace=True)' or df[col] = df[col].method(value) instead, to perform the operation inplace on the original object.\n",
      "\n",
      "\n",
      "  df['heartRate'].fillna(df.heartRate.mean(), inplace = True)\n"
     ]
    },
    {
     "data": {
      "text/plain": [
       "male               0\n",
       "age                0\n",
       "education          0\n",
       "currentSmoker      0\n",
       "cigsPerDay         0\n",
       "BPMeds             0\n",
       "prevalentStroke    0\n",
       "prevalentHyp       0\n",
       "diabetes           0\n",
       "totChol            0\n",
       "sysBP              0\n",
       "diaBP              0\n",
       "BMI                0\n",
       "heartRate          0\n",
       "glucose            0\n",
       "TenYearCHD         0\n",
       "dtype: int64"
      ]
     },
     "execution_count": 36,
     "metadata": {},
     "output_type": "execute_result"
    },
    {
     "data": {
      "image/png": "[encoded data removed]",
      "text/plain": [
       "<Figure size 640x480 with 1 Axes>"
      ]
     },
     "metadata": {},
     "output_type": "display_data"
    }
   ],
   "source": [
    "df['TenYearCHD'].value_counts(normalize = True)\n",
    "df['cigsPerDay'].value_counts(normalize = True).plot(kind=\"bar\")\n",
    "df['cigsPerDay'][df['currentSmoker']==0].isna().sum()\n",
    "# creating a boolean array of smokers\n",
    "smoke = (df['currentSmoker']==1)\n",
    "# applying mean to NaNs in cigsPerDay but using a set of smokers only\n",
    "df.loc[smoke,'cigsPerDay'] = df.loc[smoke,'cigsPerDay'].fillna(df.loc[smoke,'cigsPerDay'].mean())\n",
    "df['cigsPerDay'][df['currentSmoker']==1].mean()\n",
    "df['cigsPerDay'][df['currentSmoker']==0].mean()\n",
    "df['education'].value_counts(normalize = True).plot(kind=\"bar\")\n",
    "# Filling out missing values\n",
    "df['BPMeds'].fillna(0, inplace = True)\n",
    "df['glucose'].fillna(df.glucose.mean(), inplace = True)\n",
    "df['totChol'].fillna(df.totChol.mean(), inplace = True)\n",
    "df['education'].fillna(1, inplace = True)\n",
    "df['BMI'].fillna(df.BMI.mean(), inplace = True)\n",
    "df['heartRate'].fillna(df.heartRate.mean(), inplace = True)\n",
    "df.isna().sum()"
   ]
  },
  {
   "cell_type": "code",
   "execution_count": 37,
   "metadata": {
    "colab": {
     "base_uri": "https://localhost:8080/",
     "height": 221
    },
    "colab_type": "code",
    "id": "Ee9f0LP66RTz",
    "outputId": "1df190e3-b102-48d0-ab3d-53fde198ada2"
   },
   "outputs": [],
   "source": [
    "from sklearn.feature_selection import SelectKBest\n",
    "from sklearn.feature_selection import chi2\n",
    "\n",
    "# separate independent & dependent variables\n",
    "X = df.iloc[:,0:14]  #independent columns\n",
    "y = df.iloc[:,-1]    #target column i.e CHD\n",
    "\n"
   ]
  },
  {
   "cell_type": "code",
   "execution_count": 38,
   "metadata": {
    "colab": {
     "base_uri": "https://localhost:8080/",
     "height": 51
    },
    "colab_type": "code",
    "id": "XoDRWhfn6jQ4",
    "outputId": "f2761a2f-6979-46e4-ef30-39117c21c7ff"
   },
   "outputs": [
    {
     "name": "stdout",
     "output_type": "stream",
     "text": [
      "(3392, 15) (3392,)\n",
      "(848, 15) (848,)\n"
     ]
    }
   ],
   "source": [
    "from sklearn.model_selection import train_test_split\n",
    "\n",
    "y = df['TenYearCHD'] #target variable\n",
    "X = df.drop(['TenYearCHD'], axis = 1) #features\n",
    "X_train, X_test, y_train, y_test = train_test_split(X, y, test_size=0.2)\n",
    "\n",
    "print (X_train.shape, y_train.shape)\n",
    "print (X_test.shape, y_test.shape)"
   ]
  },
  {
   "cell_type": "markdown",
   "metadata": {},
   "source": [
    "# ECE228 optimization: MLP"
   ]
  },
  {
   "cell_type": "code",
   "execution_count": 43,
   "metadata": {},
   "outputs": [],
   "source": [
    "import torch\n",
    "import torch.nn as nn\n",
    "import torch.optim as optim\n",
    "from torch.utils.data import DataLoader, TensorDataset\n",
    "import numpy as np\n",
    "\n",
    "\n",
    "# 1. Configurable MLP Model\n",
    "class ConfigurableMLP(nn.Module):\n",
    "    # Note this is supposed to be a binary classification task, bacause the target output \"10 year CHD\" is \n",
    "    # either 1 or 0\n",
    "    def __init__(self, input_dim, hidden_dim, num_hidden_layers=2,\n",
    "                 activation='relu', dropout_rate=0.0):\n",
    "        super().__init__()\n",
    "\n",
    "        # Choose activation function\n",
    "        if activation == 'relu':\n",
    "            activation_fn = nn.ReLU()\n",
    "        elif activation == 'sigmoid':\n",
    "            activation_fn = nn.Sigmoid()\n",
    "        elif activation == 'tanh':\n",
    "            activation_fn = nn.Tanh()\n",
    "        else:\n",
    "            raise ValueError(f\"Unsupported activation: {activation}\")\n",
    "\n",
    "        layers = []\n",
    "\n",
    "        # Input layer\n",
    "        layers.append(nn.Linear(input_dim, hidden_dim))\n",
    "        layers.append(activation_fn)\n",
    "\n",
    "        # Hidden layers\n",
    "        for _ in range(num_hidden_layers):\n",
    "            if dropout_rate > 0:\n",
    "                layers.append(nn.Dropout(dropout_rate))\n",
    "            layers.append(nn.Linear(hidden_dim, hidden_dim))\n",
    "            layers.append(activation_fn)\n",
    "\n",
    "        # Output layer (for binary classification — change if needed)\n",
    "        layers.append(nn.Linear(hidden_dim, 1))  # output logits\n",
    "        self.model = nn.Sequential(*layers)\n",
    "\n",
    "    def forward(self, x):\n",
    "        return self.model(x)\n",
    "\n",
    "# 2. train model\n",
    "def train_model(\n",
    "    X_train, y_train, X_val, y_val,\n",
    "    input_dim,\n",
    "    hidden_dim=64,\n",
    "    num_hidden_layers=2,\n",
    "    activation='relu',\n",
    "    dropout_rate=0.0,\n",
    "    learning_rate=1e-3,\n",
    "    batch_size=32,\n",
    "    epochs=100,\n",
    "    use_l1=False,\n",
    "    l1_lambda=1e-5,\n",
    "    use_l2=False,\n",
    "    l2_lambda=1e-4,\n",
    "    early_stopping_patience=10\n",
    "):\n",
    "    # Build model\n",
    "    model = ConfigurableMLP(\n",
    "        input_dim=input_dim,\n",
    "        hidden_dim=hidden_dim,\n",
    "        num_hidden_layers=num_hidden_layers,\n",
    "        activation=activation,\n",
    "        dropout_rate=dropout_rate if dropout_rate > 0 else 0.0\n",
    "    )\n",
    "\n",
    "    # Set optimizer\n",
    "    optimizer = optim.Adam(model.parameters(), lr=learning_rate,\n",
    "                           weight_decay=l2_lambda if use_l2 else 0.0)\n",
    "\n",
    "    # Use BCEWithLogitsLoss for binary classification with logits\n",
    "    criterion = nn.BCEWithLogitsLoss()\n",
    "\n",
    "    # DataLoader setup\n",
    "    train_loader = DataLoader(TensorDataset(X_train, y_train), batch_size=batch_size, shuffle=True)\n",
    "    val_loader = DataLoader(TensorDataset(X_val, y_val), batch_size=batch_size)\n",
    "\n",
    "    best_val_loss = float('inf')\n",
    "    patience_counter = early_stopping_patience\n",
    "    best_model_state = None\n",
    "\n",
    "    for epoch in range(epochs):\n",
    "        model.train()\n",
    "        total_loss = 0.0\n",
    "        for xb, yb in train_loader:\n",
    "            optimizer.zero_grad()\n",
    "            output = model(xb)\n",
    "            loss = criterion(output, yb.view(-1, 1))\n",
    "\n",
    "\n",
    "            if use_l1:\n",
    "                l1_norm = sum(p.abs().sum() for p in model.parameters())\n",
    "                loss += l1_lambda * l1_norm\n",
    "\n",
    "            loss.backward()\n",
    "            optimizer.step()\n",
    "            total_loss += loss.item()\n",
    "\n",
    "        # Validation loss\n",
    "        model.eval()\n",
    "        val_loss = 0.0\n",
    "        with torch.no_grad():\n",
    "            for xb, yb in val_loader:\n",
    "                output = model(xb)\n",
    "                val_loss += criterion(output, yb.view(-1,1)).item()\n",
    "        val_loss /= len(val_loader)\n",
    "\n",
    "        print(f\"Epoch {epoch+1}/{epochs}: Train Loss = {total_loss:.4f}, Val Loss = {val_loss:.4f}\")\n",
    "\n",
    "        # Early stopping logic\n",
    "        if val_loss < best_val_loss:\n",
    "            best_val_loss = val_loss\n",
    "            patience_counter = early_stopping_patience\n",
    "            best_model_state = model.state_dict()\n",
    "        else:\n",
    "            patience_counter -= 1\n",
    "            if patience_counter == 0:\n",
    "                print(\"Early stopping triggered.\")\n",
    "                break\n",
    "\n",
    "    # Load best model\n",
    "    if best_model_state:\n",
    "        model.load_state_dict(best_model_state)\n",
    "\n",
    "    return model\n",
    "\n",
    "\n",
    "\n"
   ]
  },
  {
   "cell_type": "code",
   "execution_count": 44,
   "metadata": {},
   "outputs": [],
   "source": [
    "from sklearn.preprocessing import StandardScaler\n",
    "\n",
    "# Normalize features\n",
    "scaler = StandardScaler()\n",
    "X_scaled = scaler.fit_transform(X)\n",
    "\n",
    "# Convert to PyTorch tensors\n",
    "X_tensor = torch.tensor(X_scaled, dtype=torch.float32)\n",
    "y_tensor = torch.tensor(y, dtype=torch.float32)\n",
    "\n",
    "# Train/val split\n",
    "X_train, X_val, y_train, y_val = train_test_split(X_tensor, y_tensor, test_size=0.2, random_state=42)\n"
   ]
  },
  {
   "cell_type": "code",
   "execution_count": 47,
   "metadata": {},
   "outputs": [
    {
     "name": "stdout",
     "output_type": "stream",
     "text": [
      "Epoch 1/100: Train Loss = 48.4705, Val Loss = 0.3964\n",
      "Epoch 2/100: Train Loss = 41.8203, Val Loss = 0.3852\n",
      "Epoch 3/100: Train Loss = 41.8847, Val Loss = 0.3834\n",
      "Epoch 4/100: Train Loss = 41.2281, Val Loss = 0.3815\n",
      "Epoch 5/100: Train Loss = 40.7679, Val Loss = 0.3822\n",
      "Epoch 6/100: Train Loss = 40.2413, Val Loss = 0.3847\n",
      "Epoch 7/100: Train Loss = 41.0537, Val Loss = 0.3840\n",
      "Epoch 8/100: Train Loss = 40.7603, Val Loss = 0.3848\n",
      "Epoch 9/100: Train Loss = 40.1972, Val Loss = 0.3853\n",
      "Epoch 10/100: Train Loss = 40.5082, Val Loss = 0.3856\n",
      "Epoch 11/100: Train Loss = 40.1298, Val Loss = 0.3877\n",
      "Epoch 12/100: Train Loss = 39.8952, Val Loss = 0.3863\n",
      "Epoch 13/100: Train Loss = 40.0306, Val Loss = 0.3871\n",
      "Epoch 14/100: Train Loss = 39.5020, Val Loss = 0.3853\n",
      "Early stopping triggered.\n"
     ]
    }
   ],
   "source": [
    "trained_model = train_model(\n",
    "    X_train, y_train,\n",
    "    X_val, y_val,\n",
    "    input_dim=X_train.shape[1],\n",
    "    hidden_dim=64,\n",
    "    num_hidden_layers=3,\n",
    "    activation='relu',\n",
    "    dropout_rate=0.2,\n",
    "    learning_rate=1e-3,\n",
    "    use_l1=False,\n",
    "    use_l2=True,\n",
    "    l1_lambda=1e-5,\n",
    "    l2_lambda=1e-4,\n",
    "    early_stopping_patience=10\n",
    ")\n"
   ]
  }
 ],
 "metadata": {
  "colab": {
   "collapsed_sections": [],
   "name": "Untitled15.ipynb",
   "provenance": []
  },
  "kernelspec": {
   "display_name": "Python 3",
   "language": "python",
   "name": "python3"
  },
  "language_info": {
   "codemirror_mode": {
    "name": "ipython",
    "version": 3
   },
   "file_extension": ".py",
   "mimetype": "text/x-python",
   "name": "python",
   "nbconvert_exporter": "python",
   "pygments_lexer": "ipython3",
   "version": "3.12.7"
  }
 },
 "nbformat": 4,
 "nbformat_minor": 4
}
