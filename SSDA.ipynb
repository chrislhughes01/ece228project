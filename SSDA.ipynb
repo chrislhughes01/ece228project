{
  "cells": [
    {
      "cell_type": "code",
      "execution_count": 2,
      "metadata": {
        "colab": {
          "base_uri": "https://localhost:8080/",
          "height": 71
        },
        "colab_type": "code",
        "id": "6xTh2_Vh6K6V",
        "outputId": "a3344f6c-5fd3-48c9-ad1f-4d655284bf1a"
      },
      "outputs": [],
      "source": [
        "import pandas as pd\n",
        "import numpy as np\n",
        "import matplotlib.pyplot as plt\n",
        "import scipy.stats as st\n",
        "import seaborn as sns\n",
        "#import pandas_profiling\n",
        "from pydantic_settings import BaseSettings\n",
        "%matplotlib inline\n",
        "df = pd.read_csv('framingham.csv')"
      ]
    },
    {
      "cell_type": "code",
      "execution_count": 3,
      "metadata": {
        "colab": {
          "base_uri": "https://localhost:8080/",
          "height": 560
        },
        "colab_type": "code",
        "id": "D9y8mfuS6Ph3",
        "outputId": "b972417c-9dbf-4b1a-e94b-112671ef6bfc"
      },
      "outputs": [
        {
          "name": "stderr",
          "output_type": "stream",
          "text": [
            "/var/folders/_5/727fvmnd5yd54mwrh313s9600000gn/T/ipykernel_17029/3651101966.py:12: FutureWarning: A value is trying to be set on a copy of a DataFrame or Series through chained assignment using an inplace method.\n",
            "The behavior will change in pandas 3.0. This inplace method will never work because the intermediate object on which we are setting values always behaves as a copy.\n",
            "\n",
            "For example, when doing 'df[col].method(value, inplace=True)', try using 'df.method({col: value}, inplace=True)' or df[col] = df[col].method(value) instead, to perform the operation inplace on the original object.\n",
            "\n",
            "\n",
            "  df['BPMeds'].fillna(0, inplace = True)\n",
            "/var/folders/_5/727fvmnd5yd54mwrh313s9600000gn/T/ipykernel_17029/3651101966.py:13: FutureWarning: A value is trying to be set on a copy of a DataFrame or Series through chained assignment using an inplace method.\n",
            "The behavior will change in pandas 3.0. This inplace method will never work because the intermediate object on which we are setting values always behaves as a copy.\n",
            "\n",
            "For example, when doing 'df[col].method(value, inplace=True)', try using 'df.method({col: value}, inplace=True)' or df[col] = df[col].method(value) instead, to perform the operation inplace on the original object.\n",
            "\n",
            "\n",
            "  df['glucose'].fillna(df.glucose.mean(), inplace = True)\n",
            "/var/folders/_5/727fvmnd5yd54mwrh313s9600000gn/T/ipykernel_17029/3651101966.py:14: FutureWarning: A value is trying to be set on a copy of a DataFrame or Series through chained assignment using an inplace method.\n",
            "The behavior will change in pandas 3.0. This inplace method will never work because the intermediate object on which we are setting values always behaves as a copy.\n",
            "\n",
            "For example, when doing 'df[col].method(value, inplace=True)', try using 'df.method({col: value}, inplace=True)' or df[col] = df[col].method(value) instead, to perform the operation inplace on the original object.\n",
            "\n",
            "\n",
            "  df['totChol'].fillna(df.totChol.mean(), inplace = True)\n",
            "/var/folders/_5/727fvmnd5yd54mwrh313s9600000gn/T/ipykernel_17029/3651101966.py:15: FutureWarning: A value is trying to be set on a copy of a DataFrame or Series through chained assignment using an inplace method.\n",
            "The behavior will change in pandas 3.0. This inplace method will never work because the intermediate object on which we are setting values always behaves as a copy.\n",
            "\n",
            "For example, when doing 'df[col].method(value, inplace=True)', try using 'df.method({col: value}, inplace=True)' or df[col] = df[col].method(value) instead, to perform the operation inplace on the original object.\n",
            "\n",
            "\n",
            "  df['education'].fillna(1, inplace = True)\n",
            "/var/folders/_5/727fvmnd5yd54mwrh313s9600000gn/T/ipykernel_17029/3651101966.py:16: FutureWarning: A value is trying to be set on a copy of a DataFrame or Series through chained assignment using an inplace method.\n",
            "The behavior will change in pandas 3.0. This inplace method will never work because the intermediate object on which we are setting values always behaves as a copy.\n",
            "\n",
            "For example, when doing 'df[col].method(value, inplace=True)', try using 'df.method({col: value}, inplace=True)' or df[col] = df[col].method(value) instead, to perform the operation inplace on the original object.\n",
            "\n",
            "\n",
            "  df['BMI'].fillna(df.BMI.mean(), inplace = True)\n",
            "/var/folders/_5/727fvmnd5yd54mwrh313s9600000gn/T/ipykernel_17029/3651101966.py:17: FutureWarning: A value is trying to be set on a copy of a DataFrame or Series through chained assignment using an inplace method.\n",
            "The behavior will change in pandas 3.0. This inplace method will never work because the intermediate object on which we are setting values always behaves as a copy.\n",
            "\n",
            "For example, when doing 'df[col].method(value, inplace=True)', try using 'df.method({col: value}, inplace=True)' or df[col] = df[col].method(value) instead, to perform the operation inplace on the original object.\n",
            "\n",
            "\n",
            "  df['heartRate'].fillna(df.heartRate.mean(), inplace = True)\n"
          ]
        },
        {
          "data": {
            "text/plain": [
              "male               0\n",
              "age                0\n",
              "education          0\n",
              "currentSmoker      0\n",
              "cigsPerDay         0\n",
              "BPMeds             0\n",
              "prevalentStroke    0\n",
              "prevalentHyp       0\n",
              "diabetes           0\n",
              "totChol            0\n",
              "sysBP              0\n",
              "diaBP              0\n",
              "BMI                0\n",
              "heartRate          0\n",
              "glucose            0\n",
              "TenYearCHD         0\n",
              "dtype: int64"
            ]
          },
          "execution_count": 3,
          "metadata": {},
          "output_type": "execute_result"
        },
        {
          "data": {
            "image/png": "[encoded data removed]",
            "text/plain": [
              "<Figure size 640x480 with 1 Axes>"
            ]
          },
          "metadata": {},
          "output_type": "display_data"
        }
      ],
      "source": [
        "df['TenYearCHD'].value_counts(normalize = True)\n",
        "df['cigsPerDay'].value_counts(normalize = True).plot(kind=\"bar\")\n",
        "df['cigsPerDay'][df['currentSmoker']==0].isna().sum()\n",
        "# creating a boolean array of smokers\n",
        "smoke = (df['currentSmoker']==1)\n",
        "# applying mean to NaNs in cigsPerDay but using a set of smokers only\n",
        "df.loc[smoke,'cigsPerDay'] = df.loc[smoke,'cigsPerDay'].fillna(df.loc[smoke,'cigsPerDay'].mean())\n",
        "df['cigsPerDay'][df['currentSmoker']==1].mean()\n",
        "df['cigsPerDay'][df['currentSmoker']==0].mean()\n",
        "df['education'].value_counts(normalize = True).plot(kind=\"bar\")\n",
        "# Filling out missing values\n",
        "df['BPMeds'].fillna(0, inplace = True)\n",
        "df['glucose'].fillna(df.glucose.mean(), inplace = True)\n",
        "df['totChol'].fillna(df.totChol.mean(), inplace = True)\n",
        "df['education'].fillna(1, inplace = True)\n",
        "df['BMI'].fillna(df.BMI.mean(), inplace = True)\n",
        "df['heartRate'].fillna(df.heartRate.mean(), inplace = True)\n",
        "df.isna().sum()"
      ]
    },
    {
      "cell_type": "code",
      "execution_count": 4,
      "metadata": {
        "colab": {
          "base_uri": "https://localhost:8080/",
          "height": 221
        },
        "colab_type": "code",
        "id": "Ee9f0LP66RTz",
        "outputId": "1df190e3-b102-48d0-ab3d-53fde198ada2"
      },
      "outputs": [
        {
          "name": "stdout",
          "output_type": "stream",
          "text": [
            "              Specs       Score\n",
            "10            sysBP  727.935535\n",
            "1               age  319.266019\n",
            "9           totChol  235.502392\n",
            "4        cigsPerDay  209.897040\n",
            "11            diaBP  152.748563\n",
            "7      prevalentHyp   92.048736\n",
            "8          diabetes   39.144944\n",
            "5            BPMeds   30.759595\n",
            "0              male   18.899930\n",
            "6   prevalentStroke   16.109887\n",
            "12              BMI   15.227367\n"
          ]
        }
      ],
      "source": [
        "from sklearn.feature_selection import SelectKBest\n",
        "from sklearn.feature_selection import chi2\n",
        "\n",
        "# separate independent & dependent variables\n",
        "X = df.iloc[:,0:14]  #independent columns\n",
        "y = df.iloc[:,-1]    #target column i.e price range\n",
        "\n",
        "# apply SelectKBest class to extract top 10 best features\n",
        "bestfeatures = SelectKBest(score_func=chi2, k=11)\n",
        "fit = bestfeatures.fit(X,y)\n",
        "dfscores = pd.DataFrame(fit.scores_)\n",
        "dfcolumns = pd.DataFrame(X.columns)\n",
        "featureScores = pd.concat([dfcolumns,dfscores],axis=1)\n",
        "featureScores.columns = ['Specs','Score']  #naming the dataframe columns\n",
        "print(featureScores.nlargest(11,'Score'))  #print 10 best features"
      ]
    },
    {
      "cell_type": "code",
      "execution_count": 5,
      "metadata": {
        "colab": {
          "base_uri": "https://localhost:8080/",
          "height": 483
        },
        "colab_type": "code",
        "id": "iyAhKYg26TOD",
        "outputId": "40cc1f10-1d3e-4852-b09f-fcc2ba430774"
      },
      "outputs": [
        {
          "data": {
            "text/html": [
              "<div>\n",
              "<style scoped>\n",
              "    .dataframe tbody tr th:only-of-type {\n",
              "        vertical-align: middle;\n",
              "    }\n",
              "\n",
              "    .dataframe tbody tr th {\n",
              "        vertical-align: top;\n",
              "    }\n",
              "\n",
              "    .dataframe thead th {\n",
              "        text-align: right;\n",
              "    }\n",
              "</style>\n",
              "<table border=\"1\" class=\"dataframe\">\n",
              "  <thead>\n",
              "    <tr style=\"text-align: right;\">\n",
              "      <th></th>\n",
              "      <th>Specs</th>\n",
              "      <th>Score</th>\n",
              "    </tr>\n",
              "  </thead>\n",
              "  <tbody>\n",
              "    <tr>\n",
              "      <th>10</th>\n",
              "      <td>sysBP</td>\n",
              "      <td>727.935535</td>\n",
              "    </tr>\n",
              "    <tr>\n",
              "      <th>1</th>\n",
              "      <td>age</td>\n",
              "      <td>319.266019</td>\n",
              "    </tr>\n",
              "    <tr>\n",
              "      <th>9</th>\n",
              "      <td>totChol</td>\n",
              "      <td>235.502392</td>\n",
              "    </tr>\n",
              "    <tr>\n",
              "      <th>4</th>\n",
              "      <td>cigsPerDay</td>\n",
              "      <td>209.897040</td>\n",
              "    </tr>\n",
              "    <tr>\n",
              "      <th>11</th>\n",
              "      <td>diaBP</td>\n",
              "      <td>152.748563</td>\n",
              "    </tr>\n",
              "    <tr>\n",
              "      <th>7</th>\n",
              "      <td>prevalentHyp</td>\n",
              "      <td>92.048736</td>\n",
              "    </tr>\n",
              "    <tr>\n",
              "      <th>8</th>\n",
              "      <td>diabetes</td>\n",
              "      <td>39.144944</td>\n",
              "    </tr>\n",
              "    <tr>\n",
              "      <th>5</th>\n",
              "      <td>BPMeds</td>\n",
              "      <td>30.759595</td>\n",
              "    </tr>\n",
              "    <tr>\n",
              "      <th>0</th>\n",
              "      <td>male</td>\n",
              "      <td>18.899930</td>\n",
              "    </tr>\n",
              "    <tr>\n",
              "      <th>6</th>\n",
              "      <td>prevalentStroke</td>\n",
              "      <td>16.109887</td>\n",
              "    </tr>\n",
              "    <tr>\n",
              "      <th>12</th>\n",
              "      <td>BMI</td>\n",
              "      <td>15.227367</td>\n",
              "    </tr>\n",
              "    <tr>\n",
              "      <th>2</th>\n",
              "      <td>education</td>\n",
              "      <td>6.318253</td>\n",
              "    </tr>\n",
              "    <tr>\n",
              "      <th>13</th>\n",
              "      <td>heartRate</td>\n",
              "      <td>4.232372</td>\n",
              "    </tr>\n",
              "    <tr>\n",
              "      <th>3</th>\n",
              "      <td>currentSmoker</td>\n",
              "      <td>0.811334</td>\n",
              "    </tr>\n",
              "  </tbody>\n",
              "</table>\n",
              "</div>"
            ],
            "text/plain": [
              "              Specs       Score\n",
              "10            sysBP  727.935535\n",
              "1               age  319.266019\n",
              "9           totChol  235.502392\n",
              "4        cigsPerDay  209.897040\n",
              "11            diaBP  152.748563\n",
              "7      prevalentHyp   92.048736\n",
              "8          diabetes   39.144944\n",
              "5            BPMeds   30.759595\n",
              "0              male   18.899930\n",
              "6   prevalentStroke   16.109887\n",
              "12              BMI   15.227367\n",
              "2         education    6.318253\n",
              "13        heartRate    4.232372\n",
              "3     currentSmoker    0.811334"
            ]
          },
          "execution_count": 5,
          "metadata": {},
          "output_type": "execute_result"
        }
      ],
      "source": [
        "featureScores = featureScores.sort_values(by='Score', ascending=False)\n",
        "featureScores"
      ]
    },
    {
      "cell_type": "code",
      "execution_count": 6,
      "metadata": {
        "colab": {
          "base_uri": "https://localhost:8080/",
          "height": 299
        },
        "colab_type": "code",
        "id": "SMBNo9GW6aZ5",
        "outputId": "f2c13008-9884-4141-c0f8-ab33cf9d20ae"
      },
      "outputs": [
        {
          "name": "stderr",
          "output_type": "stream",
          "text": [
            "/var/folders/_5/727fvmnd5yd54mwrh313s9600000gn/T/ipykernel_17029/2876043360.py:6: FutureWarning: \n",
            "\n",
            "Passing `palette` without assigning `hue` is deprecated and will be removed in v0.14.0. Assign the `x` variable to `hue` and set `legend=False` for the same effect.\n",
            "\n",
            "  sns.barplot(x='Specs', y='Score', data=featureScores, palette = \"GnBu_d\")\n"
          ]
        },
        {
          "data": {
            "image/png": "[encoded data removed]",
            "text/plain": [
              "<Figure size 2000x500 with 1 Axes>"
            ]
          },
          "metadata": {},
          "output_type": "display_data"
        }
      ],
      "source": [
        "# visualizing feature selection\n",
        "import matplotlib.pyplot as plt\n",
        "import seaborn as sns\n",
        "\n",
        "plt.figure(figsize=(20,5))\n",
        "sns.barplot(x='Specs', y='Score', data=featureScores, palette = \"GnBu_d\")\n",
        "plt.box(False)\n",
        "plt.title('Feature importance', fontsize=16)\n",
        "plt.xlabel('\\n Features', fontsize=14)\n",
        "plt.ylabel('Importance \\n', fontsize=14)\n",
        "plt.xticks(fontsize=12)\n",
        "plt.yticks(fontsize=12)\n",
        "plt.show()"
      ]
    },
    {
      "cell_type": "code",
      "execution_count": 7,
      "metadata": {
        "colab": {
          "base_uri": "https://localhost:8080/",
          "height": 238
        },
        "colab_type": "code",
        "id": "7HQGBcKg6cOi",
        "outputId": "75da11dc-986a-4dcd-940c-239d2f44fabc"
      },
      "outputs": [
        {
          "data": {
            "text/plain": [
              "['sysBP',\n",
              " 'age',\n",
              " 'totChol',\n",
              " 'cigsPerDay',\n",
              " 'diaBP',\n",
              " 'prevalentHyp',\n",
              " 'diabetes',\n",
              " 'BPMeds',\n",
              " 'male',\n",
              " 'prevalentStroke',\n",
              " 'BMI',\n",
              " 'education',\n",
              " 'heartRate']"
            ]
          },
          "execution_count": 7,
          "metadata": {},
          "output_type": "execute_result"
        }
      ],
      "source": [
        "features_list = featureScores[\"Specs\"].tolist()[:13]\n",
        "features_list"
      ]
    },
    {
      "cell_type": "code",
      "execution_count": 8,
      "metadata": {
        "colab": {
          "base_uri": "https://localhost:8080/",
          "height": 204
        },
        "colab_type": "code",
        "id": "4Gisak_16g6Z",
        "outputId": "129fa414-75e9-455d-a779-569475b4ab19"
      },
      "outputs": [
        {
          "data": {
            "text/html": [
              "<div>\n",
              "<style scoped>\n",
              "    .dataframe tbody tr th:only-of-type {\n",
              "        vertical-align: middle;\n",
              "    }\n",
              "\n",
              "    .dataframe tbody tr th {\n",
              "        vertical-align: top;\n",
              "    }\n",
              "\n",
              "    .dataframe thead th {\n",
              "        text-align: right;\n",
              "    }\n",
              "</style>\n",
              "<table border=\"1\" class=\"dataframe\">\n",
              "  <thead>\n",
              "    <tr style=\"text-align: right;\">\n",
              "      <th></th>\n",
              "      <th>sysBP</th>\n",
              "      <th>age</th>\n",
              "      <th>totChol</th>\n",
              "      <th>cigsPerDay</th>\n",
              "      <th>diaBP</th>\n",
              "      <th>TenYearCHD</th>\n",
              "    </tr>\n",
              "  </thead>\n",
              "  <tbody>\n",
              "    <tr>\n",
              "      <th>0</th>\n",
              "      <td>106.0</td>\n",
              "      <td>39</td>\n",
              "      <td>195.0</td>\n",
              "      <td>0.0</td>\n",
              "      <td>70.0</td>\n",
              "      <td>0</td>\n",
              "    </tr>\n",
              "    <tr>\n",
              "      <th>1</th>\n",
              "      <td>121.0</td>\n",
              "      <td>46</td>\n",
              "      <td>250.0</td>\n",
              "      <td>0.0</td>\n",
              "      <td>81.0</td>\n",
              "      <td>0</td>\n",
              "    </tr>\n",
              "    <tr>\n",
              "      <th>2</th>\n",
              "      <td>127.5</td>\n",
              "      <td>48</td>\n",
              "      <td>245.0</td>\n",
              "      <td>20.0</td>\n",
              "      <td>80.0</td>\n",
              "      <td>0</td>\n",
              "    </tr>\n",
              "    <tr>\n",
              "      <th>3</th>\n",
              "      <td>150.0</td>\n",
              "      <td>61</td>\n",
              "      <td>225.0</td>\n",
              "      <td>30.0</td>\n",
              "      <td>95.0</td>\n",
              "      <td>1</td>\n",
              "    </tr>\n",
              "    <tr>\n",
              "      <th>4</th>\n",
              "      <td>130.0</td>\n",
              "      <td>46</td>\n",
              "      <td>285.0</td>\n",
              "      <td>23.0</td>\n",
              "      <td>84.0</td>\n",
              "      <td>0</td>\n",
              "    </tr>\n",
              "  </tbody>\n",
              "</table>\n",
              "</div>"
            ],
            "text/plain": [
              "   sysBP  age  totChol  cigsPerDay  diaBP  TenYearCHD\n",
              "0  106.0   39    195.0         0.0   70.0           0\n",
              "1  121.0   46    250.0         0.0   81.0           0\n",
              "2  127.5   48    245.0        20.0   80.0           0\n",
              "3  150.0   61    225.0        30.0   95.0           1\n",
              "4  130.0   46    285.0        23.0   84.0           0"
            ]
          },
          "execution_count": 8,
          "metadata": {},
          "output_type": "execute_result"
        }
      ],
      "source": [
        "df = df[['sysBP','age','totChol','cigsPerDay','diaBP','TenYearCHD']]\n",
        "df.head()"
      ]
    },
    {
      "cell_type": "code",
      "execution_count": 9,
      "metadata": {
        "colab": {
          "base_uri": "https://localhost:8080/",
          "height": 51
        },
        "colab_type": "code",
        "id": "XoDRWhfn6jQ4",
        "outputId": "f2761a2f-6979-46e4-ef30-39117c21c7ff"
      },
      "outputs": [
        {
          "name": "stdout",
          "output_type": "stream",
          "text": [
            "(3392, 5) (3392,)\n",
            "(848, 5) (848,)\n"
          ]
        }
      ],
      "source": [
        "from sklearn.model_selection import train_test_split\n",
        "\n",
        "y = df['TenYearCHD'] #target variable\n",
        "X = df.drop(['TenYearCHD'], axis = 1) #features\n",
        "X_train, X_test, y_train, y_test = train_test_split(X, y, test_size=0.2)\n",
        "\n",
        "print (X_train.shape, y_train.shape)\n",
        "print (X_test.shape, y_test.shape)"
      ]
    },
    {
      "cell_type": "code",
      "execution_count": 10,
      "metadata": {
        "colab": {
          "base_uri": "https://localhost:8080/",
          "height": 34
        },
        "colab_type": "code",
        "id": "ilr3wDIY6wQY",
        "outputId": "4e4703b8-d6e0-4cc4-8d5b-76f0a1901b2f"
      },
      "outputs": [
        {
          "name": "stdout",
          "output_type": "stream",
          "text": [
            "Mean ROC AUC: 0.943\n"
          ]
        }
      ],
      "source": [
        "from sklearn.linear_model import LogisticRegression\n",
        "from sklearn import datasets, linear_model\n",
        "from imblearn.pipeline import Pipeline\n",
        "from sklearn.svm import SVC\n",
        "from imblearn.pipeline import Pipeline\n",
        "from sklearn.model_selection import RepeatedStratifiedKFold\n",
        "# decision tree  on imbalanced dataset with SMOTE oversampling and random undersampling\n",
        "from numpy import mean\n",
        "from sklearn.datasets import make_classification\n",
        "from sklearn.model_selection import cross_val_score\n",
        "from sklearn.model_selection import RepeatedStratifiedKFold\n",
        "from sklearn.tree import DecisionTreeClassifier\n",
        "from imblearn.pipeline import Pipeline\n",
        "from imblearn.over_sampling import SMOTE\n",
        "from imblearn.under_sampling import RandomUnderSampler\n",
        "from imblearn.over_sampling import SMOTE\n",
        "import sklearn.linear_model as lm\n",
        "\n",
        "\n",
        "# fit a model\n",
        "lm = lm.LogisticRegression()\n",
        "model = lm.fit(X_train, y_train)\n",
        "over = SMOTE(sampling_strategy=0.1)\n",
        "steps = [('over', over), ('model', model)]\n",
        "pipeline = Pipeline(steps=steps)\n",
        "X, y = make_classification(n_samples=10000, n_features=5, n_redundant=0,\n",
        "\tn_clusters_per_class=1, weights=[0.99], flip_y=0, random_state=1)\n",
        "cv = RepeatedStratifiedKFold(n_splits=5, n_repeats=3, random_state=1)\n",
        "scores = cross_val_score(pipeline, X, y, scoring='roc_auc', cv=cv, n_jobs=-1)\n",
        "#model.score(X_test, y_test)\n",
        "print('Mean ROC AUC: %.3f' % mean(scores))"
      ]
    },
    {
      "cell_type": "code",
      "execution_count": 11,
      "metadata": {
        "colab": {
          "base_uri": "https://localhost:8080/",
          "height": 34
        },
        "colab_type": "code",
        "id": "uFugSK8cmKuJ",
        "outputId": "92ba0053-d2ac-4f47-d1e0-785fa4976474"
      },
      "outputs": [
        {
          "name": "stdout",
          "output_type": "stream",
          "text": [
            "0.7641509433962265\n"
          ]
        }
      ],
      "source": [
        "from sklearn.tree import DecisionTreeClassifier\n",
        "classifier = DecisionTreeClassifier()\n",
        "classifier.fit(X_train, y_train)\n",
        "y_pred = classifier.predict(X_test)\n",
        "from sklearn.metrics import classification_report, confusion_matrix\n",
        "#print(confusion_matrix(y_test, y_pred))\n",
        "from sklearn.metrics import accuracy_score\n",
        "print(accuracy_score(y_test, y_pred, normalize=True)\n",
        ")"
      ]
    },
    {
      "cell_type": "code",
      "execution_count": 12,
      "metadata": {
        "colab": {
          "base_uri": "https://localhost:8080/",
          "height": 34
        },
        "colab_type": "code",
        "id": "cQXJsfN4nBkS",
        "outputId": "0d0b3181-dc00-427a-a1b4-79a723e692af"
      },
      "outputs": [
        {
          "name": "stdout",
          "output_type": "stream",
          "text": [
            "0.8608490566037735\n"
          ]
        }
      ],
      "source": [
        "from sklearn.neighbors import KNeighborsClassifier\n",
        "classifier = KNeighborsClassifier(n_neighbors=5)\n",
        "classifier.fit(X_train, y_train)\n",
        "y_pred = classifier.predict(X_test)\n",
        "from sklearn.metrics import accuracy_score\n",
        "print(accuracy_score(y_test, y_pred, normalize=True)\n",
        ")"
      ]
    },
    {
      "cell_type": "code",
      "execution_count": 13,
      "metadata": {
        "colab": {
          "base_uri": "https://localhost:8080/",
          "height": 224
        },
        "colab_type": "code",
        "id": "2kagT1yZ8ZcZ",
        "outputId": "ce127ffa-e259-4f4c-e2ab-e32667ff6bc7"
      },
      "outputs": [
        {
          "name": "stdout",
          "output_type": "stream",
          "text": [
            "0.9919\n"
          ]
        }
      ],
      "source": [
        "\n",
        "# Voting Ensemble for Classification\n",
        "import pandas\n",
        "from sklearn import model_selection\n",
        "from sklearn.linear_model import LogisticRegression\n",
        "from sklearn.tree import DecisionTreeClassifier\n",
        "from sklearn.svm import SVC\n",
        "from sklearn.ensemble import VotingClassifier\n",
        "\n",
        "kfold = model_selection.KFold(n_splits=5)\n",
        "# create the sub models\n",
        "estimators = []\n",
        "model1 = LogisticRegression().fit(X_test,y_test)\n",
        "estimators.append(('logistic', model1))\n",
        "model2 = KNeighborsClassifier(n_neighbors=3)\n",
        "estimators.append(('cart', model2))\n",
        "\n",
        "# create the ensemble model\n",
        "ensemble = VotingClassifier(estimators)\n",
        "\n",
        "over = SMOTE(sampling_strategy=0.1)\n",
        "steps = [('over', over), ('model', ensemble)]\n",
        "pipeline = Pipeline(steps=steps)\n",
        "\n",
        "\n",
        "results = model_selection.cross_val_score(pipeline, X, y, cv=kfold)\n",
        "print(results.mean())"
      ]
    }
  ],
  "metadata": {
    "colab": {
      "collapsed_sections": [],
      "name": "Untitled15.ipynb",
      "provenance": []
    },
    "kernelspec": {
      "display_name": "Python 3",
      "name": "python3"
    },
    "language_info": {
      "codemirror_mode": {
        "name": "ipython",
        "version": 3
      },
      "file_extension": ".py",
      "mimetype": "text/x-python",
      "name": "python",
      "nbconvert_exporter": "python",
      "pygments_lexer": "ipython3",
      "version": "3.12.7"
    }
  },
  "nbformat": 4,
  "nbformat_minor": 0
}
