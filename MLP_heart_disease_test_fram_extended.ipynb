{
 "cells": [
  {
   "cell_type": "code",
   "execution_count": 1,
   "metadata": {
    "colab": {
     "base_uri": "https://localhost:8080/",
     "height": 71
    },
    "colab_type": "code",
    "id": "6xTh2_Vh6K6V",
    "outputId": "a3344f6c-5fd3-48c9-ad1f-4d655284bf1a"
   },
   "outputs": [],
   "source": [
    "import pandas as pd\n",
    "import numpy as np\n",
    "import matplotlib.pyplot as plt\n",
    "import scipy.stats as st\n",
    "import seaborn as sns\n",
    "#import pandas_profiling\n",
    "from pydantic_settings import BaseSettings\n",
    "%matplotlib inline\n",
    "df = pd.read_csv('framingham_extended.csv')\n",
    "df_hd = pd.read_csv('heart_disease_fixed.csv')"
   ]
  },
  {
   "cell_type": "code",
   "execution_count": 2,
   "metadata": {
    "colab": {
     "base_uri": "https://localhost:8080/",
     "height": 560
    },
    "colab_type": "code",
    "id": "D9y8mfuS6Ph3",
    "outputId": "b972417c-9dbf-4b1a-e94b-112671ef6bfc"
   },
   "outputs": [
    {
     "name": "stderr",
     "output_type": "stream",
     "text": [
      "C:\\Users\\19666\\AppData\\Local\\Temp\\ipykernel_2944\\82412618.py:2: FutureWarning: A value is trying to be set on a copy of a DataFrame or Series through chained assignment using an inplace method.\n",
      "The behavior will change in pandas 3.0. This inplace method will never work because the intermediate object on which we are setting values always behaves as a copy.\n",
      "\n",
      "For example, when doing 'df[col].method(value, inplace=True)', try using 'df.method({col: value}, inplace=True)' or df[col] = df[col].method(value) instead, to perform the operation inplace on the original object.\n",
      "\n",
      "\n",
      "  df['BPMeds'].fillna(0, inplace = True)\n",
      "C:\\Users\\19666\\AppData\\Local\\Temp\\ipykernel_2944\\82412618.py:3: FutureWarning: A value is trying to be set on a copy of a DataFrame or Series through chained assignment using an inplace method.\n",
      "The behavior will change in pandas 3.0. This inplace method will never work because the intermediate object on which we are setting values always behaves as a copy.\n",
      "\n",
      "For example, when doing 'df[col].method(value, inplace=True)', try using 'df.method({col: value}, inplace=True)' or df[col] = df[col].method(value) instead, to perform the operation inplace on the original object.\n",
      "\n",
      "\n",
      "  df['glucose'].fillna(df.glucose.mean(), inplace = True)\n",
      "C:\\Users\\19666\\AppData\\Local\\Temp\\ipykernel_2944\\82412618.py:4: FutureWarning: A value is trying to be set on a copy of a DataFrame or Series through chained assignment using an inplace method.\n",
      "The behavior will change in pandas 3.0. This inplace method will never work because the intermediate object on which we are setting values always behaves as a copy.\n",
      "\n",
      "For example, when doing 'df[col].method(value, inplace=True)', try using 'df.method({col: value}, inplace=True)' or df[col] = df[col].method(value) instead, to perform the operation inplace on the original object.\n",
      "\n",
      "\n",
      "  df['totChol'].fillna(df.totChol.mean(), inplace = True)\n",
      "C:\\Users\\19666\\AppData\\Local\\Temp\\ipykernel_2944\\82412618.py:5: FutureWarning: A value is trying to be set on a copy of a DataFrame or Series through chained assignment using an inplace method.\n",
      "The behavior will change in pandas 3.0. This inplace method will never work because the intermediate object on which we are setting values always behaves as a copy.\n",
      "\n",
      "For example, when doing 'df[col].method(value, inplace=True)', try using 'df.method({col: value}, inplace=True)' or df[col] = df[col].method(value) instead, to perform the operation inplace on the original object.\n",
      "\n",
      "\n",
      "  df['education'].fillna(1, inplace = True)\n",
      "C:\\Users\\19666\\AppData\\Local\\Temp\\ipykernel_2944\\82412618.py:6: FutureWarning: A value is trying to be set on a copy of a DataFrame or Series through chained assignment using an inplace method.\n",
      "The behavior will change in pandas 3.0. This inplace method will never work because the intermediate object on which we are setting values always behaves as a copy.\n",
      "\n",
      "For example, when doing 'df[col].method(value, inplace=True)', try using 'df.method({col: value}, inplace=True)' or df[col] = df[col].method(value) instead, to perform the operation inplace on the original object.\n",
      "\n",
      "\n",
      "  df['BMI'].fillna(df.BMI.mean(), inplace = True)\n",
      "C:\\Users\\19666\\AppData\\Local\\Temp\\ipykernel_2944\\82412618.py:7: FutureWarning: A value is trying to be set on a copy of a DataFrame or Series through chained assignment using an inplace method.\n",
      "The behavior will change in pandas 3.0. This inplace method will never work because the intermediate object on which we are setting values always behaves as a copy.\n",
      "\n",
      "For example, when doing 'df[col].method(value, inplace=True)', try using 'df.method({col: value}, inplace=True)' or df[col] = df[col].method(value) instead, to perform the operation inplace on the original object.\n",
      "\n",
      "\n",
      "  df['heartRate'].fillna(df.heartRate.mean(), inplace = True)\n",
      "C:\\Users\\19666\\AppData\\Local\\Temp\\ipykernel_2944\\82412618.py:12: FutureWarning: A value is trying to be set on a copy of a DataFrame or Series through chained assignment using an inplace method.\n",
      "The behavior will change in pandas 3.0. This inplace method will never work because the intermediate object on which we are setting values always behaves as a copy.\n",
      "\n",
      "For example, when doing 'df[col].method(value, inplace=True)', try using 'df.method({col: value}, inplace=True)' or df[col] = df[col].method(value) instead, to perform the operation inplace on the original object.\n",
      "\n",
      "\n",
      "  df_hd['trestbps'].fillna(df_hd.trestbps.mean(), inplace = True)\n",
      "C:\\Users\\19666\\AppData\\Local\\Temp\\ipykernel_2944\\82412618.py:13: FutureWarning: A value is trying to be set on a copy of a DataFrame or Series through chained assignment using an inplace method.\n",
      "The behavior will change in pandas 3.0. This inplace method will never work because the intermediate object on which we are setting values always behaves as a copy.\n",
      "\n",
      "For example, when doing 'df[col].method(value, inplace=True)', try using 'df.method({col: value}, inplace=True)' or df[col] = df[col].method(value) instead, to perform the operation inplace on the original object.\n",
      "\n",
      "\n",
      "  df_hd['chol'].fillna(df_hd.chol.mean(), inplace = True)\n"
     ]
    }
   ],
   "source": [
    "# Filling out missing values\n",
    "df['BPMeds'].fillna(0, inplace = True)\n",
    "df['glucose'].fillna(df.glucose.mean(), inplace = True)\n",
    "df['totChol'].fillna(df.totChol.mean(), inplace = True)\n",
    "df['education'].fillna(1, inplace = True)\n",
    "df['BMI'].fillna(df.BMI.mean(), inplace = True)\n",
    "df['heartRate'].fillna(df.heartRate.mean(), inplace = True)\n",
    "df.isna().sum()\n",
    "df['fbs'] = (df['glucose'] > 120).astype(int)  # engineer 'fbs' since it's not available\n",
    "\n",
    "# Filling values for heart_disease dataset\n",
    "df_hd['trestbps'].fillna(df_hd.trestbps.mean(), inplace = True)\n",
    "df_hd['chol'].fillna(df_hd.chol.mean(), inplace = True)\n",
    "df_hd['result'] = (df_hd['target'] > 0).astype(int)\n",
    "\n",
    "# Fill in fbs column using sampling\n",
    "df_hd['fbs'] = pd.to_numeric(df_hd['fbs'], errors='coerce')\n",
    "fbs_dist = df_hd['fbs'].dropna().value_counts(normalize=True)\n",
    "p_0 = fbs_dist.get(0.0, 0)\n",
    "p_1 = fbs_dist.get(1.0, 0)\n",
    "total = p_0 + p_1\n",
    "p_0 /= total\n",
    "p_1 /= total\n",
    "num_missing = df_hd['fbs'].isna().sum()\n",
    "random_fill = np.random.choice([0, 1], size=num_missing, p=[p_0, p_1])\n",
    "df_hd.loc[df_hd['fbs'].isna(), 'fbs'] = random_fill\n",
    "\n",
    "shared_features = ['age', 'sex', 'trestbps', 'chol', 'fbs']\n",
    "\n",
    "df.rename(columns={\n",
    "    'male': 'sex',\n",
    "    'sysBP': 'trestbps',\n",
    "    'totChol': 'chol',\n",
    "    'heartRate': 'thalach'\n",
    "}, inplace=True)\n",
    "\n",
    "df['result'] = df['TenYearCHD'].astype(int)\n",
    "\n",
    "df_combined_fram = pd.concat([df[shared_features+['result']], df_hd[shared_features+['result']]])"
   ]
  },
  {
   "cell_type": "code",
   "execution_count": 3,
   "metadata": {
    "colab": {
     "base_uri": "https://localhost:8080/",
     "height": 221
    },
    "colab_type": "code",
    "id": "Ee9f0LP66RTz",
    "outputId": "1df190e3-b102-48d0-ab3d-53fde198ada2"
   },
   "outputs": [],
   "source": [
    "from sklearn.feature_selection import SelectKBest\n",
    "from sklearn.feature_selection import chi2\n",
    "\n",
    "# separate independent & dependent variables\n",
    "X = df.loc[:,shared_features]  #independent columns\n",
    "y = df.iloc[:,-1]    #target column i.e CHD\n",
    "\n",
    "X_hd = df_hd.loc[:,shared_features]\n",
    "y_hd = df_hd.loc[:,['result']].iloc[:,0]\n",
    "\n",
    "X_concat_fram = df_combined_fram.loc[:,shared_features]\n",
    "y_concat_fram = df_combined_fram.loc[:,['result']].iloc[:,0]\n",
    "\n",
    "\n"
   ]
  },
  {
   "cell_type": "code",
   "execution_count": 4,
   "metadata": {
    "colab": {
     "base_uri": "https://localhost:8080/",
     "height": 51
    },
    "colab_type": "code",
    "id": "XoDRWhfn6jQ4",
    "outputId": "f2761a2f-6979-46e4-ef30-39117c21c7ff"
   },
   "outputs": [
    {
     "name": "stdout",
     "output_type": "stream",
     "text": [
      "(4603, 5) (4603,)\n",
      "(1151, 5) (1151,)\n",
      "(736, 5) (736,)\n",
      "(184, 5) (184,)\n",
      "(5339, 5) (5339,)\n",
      "(1335, 5) (1335,)\n"
     ]
    }
   ],
   "source": [
    "from sklearn.model_selection import train_test_split\n",
    "\n",
    "#y = df['TenYearCHD'] #target variable\n",
    "#X = df.drop(['TenYearCHD'], axis = 1) #features\n",
    "X_train, X_test, y_train, y_test = train_test_split(X, y, test_size=0.2)\n",
    "\n",
    "print (X_train.shape, y_train.shape)\n",
    "print (X_test.shape, y_test.shape)\n",
    "\n",
    "X_hd_train, X_hd_test, y_hd_train, y_hd_test = train_test_split(X_hd, y_hd, test_size=0.2)\n",
    "\n",
    "X_concat_fram_train, X_concat_fram_test, y_concat_fram_train, y_concat_fram_test = train_test_split(X_concat_fram, y_concat_fram, test_size=0.2)\n",
    "\n",
    "print (X_hd_train.shape, y_hd_train.shape)\n",
    "print (X_hd_test.shape, y_hd_test.shape)\n",
    "print (X_concat_fram_train.shape, y_concat_fram_train.shape)\n",
    "print (X_concat_fram_test.shape, y_concat_fram_test.shape)"
   ]
  },
  {
   "cell_type": "markdown",
   "metadata": {},
   "source": [
    "# ECE228 optimization: MLP"
   ]
  },
  {
   "cell_type": "code",
   "execution_count": 5,
   "metadata": {},
   "outputs": [],
   "source": [
    "import torch\n",
    "import torch.nn as nn\n",
    "import torch.optim as optim\n",
    "from torch.utils.data import DataLoader, TensorDataset\n",
    "import numpy as np\n",
    "\n",
    "\n",
    "# 1. Configurable MLP Model\n",
    "class ConfigurableMLP(nn.Module):\n",
    "    # Note this is supposed to be a binary classification task, bacause the target output \"10 year CHD\" is \n",
    "    # either 1 or 0\n",
    "    def __init__(self, input_dim, hidden_dim, num_hidden_layers=2,\n",
    "                 activation='relu', dropout_rate=0.0):\n",
    "        super().__init__()\n",
    "\n",
    "        # Choose activation function\n",
    "        if activation == 'relu':\n",
    "            activation_fn = nn.ReLU()\n",
    "        elif activation == 'sigmoid':\n",
    "            activation_fn = nn.Sigmoid()\n",
    "        elif activation == 'tanh':\n",
    "            activation_fn = nn.Tanh()\n",
    "        else:\n",
    "            raise ValueError(f\"Unsupported activation: {activation}\")\n",
    "\n",
    "        layers = []\n",
    "\n",
    "        # Input layer\n",
    "        layers.append(nn.Linear(input_dim, hidden_dim))\n",
    "        layers.append(activation_fn)\n",
    "\n",
    "        # Hidden layers\n",
    "        for _ in range(num_hidden_layers):\n",
    "            if dropout_rate > 0:\n",
    "                layers.append(nn.Dropout(dropout_rate))\n",
    "            layers.append(nn.Linear(hidden_dim, hidden_dim))\n",
    "            layers.append(activation_fn)\n",
    "\n",
    "        # Output layer (for binary classification — change if needed)\n",
    "        layers.append(nn.Linear(hidden_dim, 1))  # output logits\n",
    "        self.model = nn.Sequential(*layers)\n",
    "\n",
    "    def forward(self, x):\n",
    "        return self.model(x)\n",
    "\n",
    "# 2. train model\n",
    "def train_model(\n",
    "    X_train, y_train, X_val, y_val,\n",
    "    input_dim,\n",
    "    hidden_dim=64,\n",
    "    num_hidden_layers=2,\n",
    "    activation='relu',\n",
    "    dropout_rate=0.0,\n",
    "    learning_rate=1e-3,\n",
    "    batch_size=32,\n",
    "    epochs=100,\n",
    "    use_l1=False,\n",
    "    l1_lambda=1e-5,\n",
    "    use_l2=False,\n",
    "    l2_lambda=1e-4,\n",
    "    early_stopping_patience=10,\n",
    "    skip_training=False\n",
    "):\n",
    "    # Build model\n",
    "    model = ConfigurableMLP(\n",
    "        input_dim=input_dim,\n",
    "        hidden_dim=hidden_dim,\n",
    "        num_hidden_layers=num_hidden_layers,\n",
    "        activation=activation,\n",
    "        dropout_rate=dropout_rate if dropout_rate > 0 else 0.0\n",
    "    )\n",
    "\n",
    "    # Set optimizer\n",
    "    optimizer = optim.Adam(model.parameters(), lr=learning_rate,\n",
    "                           weight_decay=l2_lambda if use_l2 else 0.0)\n",
    "\n",
    "    # Use BCEWithLogitsLoss for binary classification with logits\n",
    "    criterion = nn.BCEWithLogitsLoss()\n",
    "\n",
    "    # DataLoader setup\n",
    "    train_loader = DataLoader(TensorDataset(X_train, y_train), batch_size=batch_size, shuffle=True)\n",
    "    val_loader = DataLoader(TensorDataset(X_val, y_val), batch_size=batch_size)\n",
    "\n",
    "    best_val_loss = float('inf')\n",
    "    patience_counter = early_stopping_patience\n",
    "    best_model_state = None\n",
    "\n",
    "    # skip training for baseline results\n",
    "    if skip_training:\n",
    "        print(\"[Baseline] Skipping training, evaluating untrained model...\")\n",
    "        model.eval()\n",
    "        val_loss = 0.0\n",
    "        with torch.no_grad():\n",
    "            for xb, yb in val_loader:\n",
    "                output = model(xb)\n",
    "                val_loss += criterion(output, yb.view(-1, 1)).item()\n",
    "        val_loss /= len(val_loader)\n",
    "        print(f\"[Baseline] Untrained Model Val Loss: {val_loss:.4f}\")\n",
    "        return model\n",
    "\n",
    "\n",
    "    for epoch in range(epochs):\n",
    "        model.train()\n",
    "        total_loss = 0.0\n",
    "        for xb, yb in train_loader:\n",
    "            optimizer.zero_grad()\n",
    "            output = model(xb)\n",
    "            loss = criterion(output, yb.view(-1, 1))\n",
    "\n",
    "\n",
    "            if use_l1:\n",
    "                l1_norm = sum(p.abs().sum() for p in model.parameters())\n",
    "                loss += l1_lambda * l1_norm\n",
    "\n",
    "            loss.backward()\n",
    "            optimizer.step()\n",
    "            total_loss += loss.item()\n",
    "\n",
    "        # Validation loss\n",
    "        model.eval()\n",
    "        val_loss = 0.0\n",
    "        with torch.no_grad():\n",
    "            for xb, yb in val_loader:\n",
    "                output = model(xb)\n",
    "                val_loss += criterion(output, yb.view(-1,1)).item()\n",
    "        val_loss /= len(val_loader)\n",
    "\n",
    "        print(f\"Epoch {epoch+1}/{epochs}: Train Loss = {total_loss:.4f}, Val Loss = {val_loss:.4f}\")\n",
    "\n",
    "        # Early stopping logic\n",
    "        if val_loss < best_val_loss:\n",
    "            best_val_loss = val_loss\n",
    "            patience_counter = early_stopping_patience\n",
    "            best_model_state = model.state_dict()\n",
    "        else:\n",
    "            patience_counter -= 1\n",
    "            if patience_counter == 0:\n",
    "                print(\"Early stopping triggered.\")\n",
    "                break\n",
    "\n",
    "    # Load best model\n",
    "    if best_model_state:\n",
    "        model.load_state_dict(best_model_state)\n",
    "\n",
    "    return model\n",
    "\n",
    "\n",
    "\n"
   ]
  },
  {
   "cell_type": "code",
   "execution_count": 6,
   "metadata": {},
   "outputs": [],
   "source": [
    "from sklearn.preprocessing import StandardScaler\n",
    "\n",
    "# Framingham dataset\n",
    "scaler = StandardScaler()\n",
    "X_scaled = scaler.fit_transform(X)  # Fit only on Framingham\n",
    "\n",
    "X_tensor = torch.tensor(X_scaled, dtype=torch.float32)\n",
    "y_tensor = torch.tensor(y, dtype=torch.float32)\n",
    "\n",
    "X_train, X_val, y_train, y_val = train_test_split(X_tensor, y_tensor, test_size=0.2, random_state=42)\n",
    "\n",
    "# Heart Disease dataset — use the SAME SCALER, only transform\n",
    "X_hd_scaled = scaler.transform(X_hd)\n",
    "X_hd_tensor = torch.tensor(X_hd_scaled, dtype=torch.float32)\n",
    "y_hd_tensor = torch.tensor(y_hd, dtype=torch.float32)\n",
    "\n",
    "# Optional split\n",
    "X_hd_train, X_hd_val, y_hd_train, y_hd_val = train_test_split(X_hd_tensor, y_hd_tensor, test_size=0.2, random_state=42)\n",
    "\n",
    "# Concatenated dataset — use the SAME SCALER, only transform\n",
    "X_concat_scaled = scaler.transform(X_concat_fram)\n",
    "X_concat_tensor = torch.tensor(X_concat_scaled, dtype=torch.float32)\n",
    "y_concat_tensor = torch.tensor(y_concat_fram.values, dtype=torch.float32)\n",
    "\n",
    "# Optional split\n",
    "X_concat_train, X_concat_val, y_concat_train, y_concat_val = train_test_split(X_concat_tensor, y_concat_tensor, test_size=0.2, random_state=42)\n"
   ]
  },
  {
   "cell_type": "code",
   "execution_count": null,
   "metadata": {},
   "outputs": [],
   "source": []
  },
  {
   "cell_type": "code",
   "execution_count": 7,
   "metadata": {},
   "outputs": [],
   "source": [
    "def evaluate_model(model, X, y):\n",
    "    model.eval()\n",
    "    with torch.no_grad():\n",
    "        outputs = torch.sigmoid(model(X)).squeeze()\n",
    "        preds = (outputs >= 0.5).int()\n",
    "        accuracy = (preds == y.int()).float().mean().item()\n",
    "    return accuracy\n"
   ]
  },
  {
   "cell_type": "code",
   "execution_count": 8,
   "metadata": {},
   "outputs": [
    {
     "name": "stdout",
     "output_type": "stream",
     "text": [
      "[Baseline] Skipping training, evaluating untrained model...\n",
      "[Baseline] Untrained Model Val Loss: 0.6915\n"
     ]
    }
   ],
   "source": [
    "untrained_model = train_model(\n",
    "    X_train, y_train,\n",
    "    X_val, y_val,\n",
    "    input_dim=X_train.shape[1],\n",
    "    hidden_dim=64,\n",
    "    num_hidden_layers=3,\n",
    "    activation='relu',\n",
    "    dropout_rate=0.2,\n",
    "    learning_rate=1e-3,\n",
    "    use_l1=False,\n",
    "    use_l2=True,\n",
    "    l1_lambda=1e-5,\n",
    "    l2_lambda=1e-4,\n",
    "    early_stopping_patience=10,\n",
    "    skip_training=True\n",
    ")"
   ]
  },
  {
   "cell_type": "code",
   "execution_count": 9,
   "metadata": {},
   "outputs": [
    {
     "name": "stdout",
     "output_type": "stream",
     "text": [
      "Baseline Accuracy: 37.50%\n"
     ]
    }
   ],
   "source": [
    "accuracy = evaluate_model(untrained_model, X_hd_val, y_hd_val)\n",
    "print(f\"Baseline Accuracy: {accuracy:.2%}\")"
   ]
  },
  {
   "cell_type": "code",
   "execution_count": 25,
   "metadata": {},
   "outputs": [
    {
     "name": "stdout",
     "output_type": "stream",
     "text": [
      "Epoch 1/100: Train Loss = 91.0478, Val Loss = 0.6025\n",
      "Epoch 2/100: Train Loss = 86.5467, Val Loss = 0.6009\n",
      "Epoch 3/100: Train Loss = 86.1404, Val Loss = 0.5990\n",
      "Epoch 4/100: Train Loss = 85.5784, Val Loss = 0.5989\n",
      "Epoch 5/100: Train Loss = 84.8546, Val Loss = 0.6015\n",
      "Epoch 6/100: Train Loss = 85.0186, Val Loss = 0.5986\n",
      "Epoch 7/100: Train Loss = 84.9082, Val Loss = 0.5972\n",
      "Epoch 8/100: Train Loss = 83.9163, Val Loss = 0.5971\n",
      "Epoch 9/100: Train Loss = 84.0052, Val Loss = 0.5949\n",
      "Epoch 10/100: Train Loss = 83.7731, Val Loss = 0.5945\n",
      "Epoch 11/100: Train Loss = 83.7235, Val Loss = 0.5944\n",
      "Epoch 12/100: Train Loss = 82.9720, Val Loss = 0.5931\n",
      "Epoch 13/100: Train Loss = 82.8679, Val Loss = 0.6035\n",
      "Epoch 14/100: Train Loss = 82.8945, Val Loss = 0.6048\n",
      "Epoch 15/100: Train Loss = 83.0291, Val Loss = 0.5929\n",
      "Epoch 16/100: Train Loss = 82.6071, Val Loss = 0.5962\n",
      "Epoch 17/100: Train Loss = 82.4932, Val Loss = 0.5920\n",
      "Epoch 18/100: Train Loss = 82.5254, Val Loss = 0.5932\n",
      "Epoch 19/100: Train Loss = 82.0840, Val Loss = 0.5931\n",
      "Epoch 20/100: Train Loss = 82.1462, Val Loss = 0.5893\n",
      "Epoch 21/100: Train Loss = 82.0641, Val Loss = 0.5883\n",
      "Epoch 22/100: Train Loss = 82.0506, Val Loss = 0.5870\n",
      "Epoch 23/100: Train Loss = 81.6217, Val Loss = 0.5884\n",
      "Epoch 24/100: Train Loss = 81.3507, Val Loss = 0.5903\n",
      "Epoch 25/100: Train Loss = 81.7659, Val Loss = 0.5857\n",
      "Epoch 26/100: Train Loss = 81.0468, Val Loss = 0.5859\n",
      "Epoch 27/100: Train Loss = 81.4747, Val Loss = 0.5834\n",
      "Epoch 28/100: Train Loss = 80.9585, Val Loss = 0.5874\n",
      "Epoch 29/100: Train Loss = 80.9850, Val Loss = 0.5848\n",
      "Epoch 30/100: Train Loss = 80.9960, Val Loss = 0.5850\n",
      "Epoch 31/100: Train Loss = 80.7110, Val Loss = 0.5837\n",
      "Epoch 32/100: Train Loss = 80.3746, Val Loss = 0.5939\n",
      "Epoch 33/100: Train Loss = 80.8230, Val Loss = 0.5839\n",
      "Epoch 34/100: Train Loss = 80.6540, Val Loss = 0.5846\n",
      "Epoch 35/100: Train Loss = 80.9930, Val Loss = 0.5823\n",
      "Epoch 36/100: Train Loss = 79.8918, Val Loss = 0.5839\n",
      "Epoch 37/100: Train Loss = 80.0085, Val Loss = 0.5836\n",
      "Epoch 38/100: Train Loss = 80.1862, Val Loss = 0.5806\n",
      "Epoch 39/100: Train Loss = 80.1164, Val Loss = 0.5819\n",
      "Epoch 40/100: Train Loss = 79.6239, Val Loss = 0.5859\n",
      "Epoch 41/100: Train Loss = 80.6707, Val Loss = 0.5835\n",
      "Epoch 42/100: Train Loss = 80.2015, Val Loss = 0.5804\n",
      "Epoch 43/100: Train Loss = 80.1078, Val Loss = 0.5851\n",
      "Epoch 44/100: Train Loss = 80.1765, Val Loss = 0.5797\n",
      "Epoch 45/100: Train Loss = 79.9000, Val Loss = 0.5812\n",
      "Epoch 46/100: Train Loss = 79.9247, Val Loss = 0.5859\n",
      "Epoch 47/100: Train Loss = 79.3613, Val Loss = 0.5791\n",
      "Epoch 48/100: Train Loss = 79.8371, Val Loss = 0.5795\n",
      "Epoch 49/100: Train Loss = 79.1598, Val Loss = 0.5794\n",
      "Epoch 50/100: Train Loss = 79.9658, Val Loss = 0.5722\n",
      "Epoch 51/100: Train Loss = 79.0295, Val Loss = 0.5792\n",
      "Epoch 52/100: Train Loss = 79.5871, Val Loss = 0.5819\n",
      "Epoch 53/100: Train Loss = 79.7102, Val Loss = 0.5791\n",
      "Epoch 54/100: Train Loss = 80.2223, Val Loss = 0.5740\n",
      "Epoch 55/100: Train Loss = 79.2568, Val Loss = 0.5781\n",
      "Epoch 56/100: Train Loss = 79.2955, Val Loss = 0.5811\n",
      "Epoch 57/100: Train Loss = 79.2246, Val Loss = 0.5795\n",
      "Epoch 58/100: Train Loss = 78.6443, Val Loss = 0.5756\n",
      "Epoch 59/100: Train Loss = 78.8502, Val Loss = 0.5742\n",
      "Epoch 60/100: Train Loss = 78.2186, Val Loss = 0.5779\n",
      "Early stopping triggered.\n"
     ]
    }
   ],
   "source": [
    "fram_trained_model = train_model(\n",
    "    X_train, y_train,\n",
    "    X_val, y_val,\n",
    "    input_dim=X_train.shape[1],\n",
    "    hidden_dim=64,\n",
    "    num_hidden_layers=3,\n",
    "    activation='relu',\n",
    "    dropout_rate=0.2,\n",
    "    learning_rate=1e-3,\n",
    "    use_l1=False,\n",
    "    use_l2=True,\n",
    "    l1_lambda=1e-5,\n",
    "    l2_lambda=1e-4,\n",
    "    early_stopping_patience=10,\n",
    "    skip_training=False\n",
    ")\n"
   ]
  },
  {
   "cell_type": "code",
   "execution_count": 26,
   "metadata": {},
   "outputs": [
    {
     "name": "stdout",
     "output_type": "stream",
     "text": [
      "Framingham Dataset Trained Accuracy: 62.50%\n"
     ]
    }
   ],
   "source": [
    "accuracy = evaluate_model(fram_trained_model, X_hd_val, y_hd_val)\n",
    "print(f\"Framingham Dataset Trained Accuracy: {accuracy:.2%}\")"
   ]
  },
  {
   "cell_type": "code",
   "execution_count": 35,
   "metadata": {},
   "outputs": [
    {
     "name": "stdout",
     "output_type": "stream",
     "text": [
      "Epoch 1/100: Train Loss = 19.2025, Val Loss = 0.6525\n",
      "Epoch 2/100: Train Loss = 15.8703, Val Loss = 0.6857\n",
      "Epoch 3/100: Train Loss = 15.8176, Val Loss = 0.7093\n",
      "Epoch 4/100: Train Loss = 15.9485, Val Loss = 0.6266\n",
      "Epoch 5/100: Train Loss = 15.6668, Val Loss = 0.6378\n",
      "Epoch 6/100: Train Loss = 15.3651, Val Loss = 0.6417\n",
      "Epoch 7/100: Train Loss = 15.4975, Val Loss = 0.6325\n",
      "Epoch 8/100: Train Loss = 15.6853, Val Loss = 0.6361\n",
      "Epoch 9/100: Train Loss = 15.5890, Val Loss = 0.6468\n",
      "Epoch 10/100: Train Loss = 15.5735, Val Loss = 0.6325\n",
      "Epoch 11/100: Train Loss = 15.4798, Val Loss = 0.6361\n",
      "Epoch 12/100: Train Loss = 15.4368, Val Loss = 0.6474\n",
      "Epoch 13/100: Train Loss = 15.4688, Val Loss = 0.6335\n",
      "Epoch 14/100: Train Loss = 15.2243, Val Loss = 0.6407\n",
      "Early stopping triggered.\n"
     ]
    }
   ],
   "source": [
    "hd_trained_model = train_model(\n",
    "    X_hd_train, y_hd_train,\n",
    "    X_hd_val, y_hd_val,\n",
    "    input_dim=X_train.shape[1],\n",
    "    hidden_dim=64,\n",
    "    num_hidden_layers=3,\n",
    "    activation='relu',\n",
    "    dropout_rate=0.2,\n",
    "    learning_rate=1e-3,\n",
    "    use_l1=False,\n",
    "    use_l2=True,\n",
    "    l1_lambda=1e-5,\n",
    "    l2_lambda=1e-4,\n",
    "    early_stopping_patience=10,\n",
    "    skip_training=False\n",
    ")\n"
   ]
  },
  {
   "cell_type": "code",
   "execution_count": 36,
   "metadata": {},
   "outputs": [
    {
     "name": "stdout",
     "output_type": "stream",
     "text": [
      "Heart_Disease Dataset Trained Accuracy: 55.98%\n"
     ]
    }
   ],
   "source": [
    "accuracy = evaluate_model(hd_trained_model, X_hd_val, y_hd_val)\n",
    "print(f\"Heart_Disease Dataset Trained Accuracy: {accuracy:.2%}\")"
   ]
  },
  {
   "cell_type": "code",
   "execution_count": 14,
   "metadata": {},
   "outputs": [
    {
     "name": "stdout",
     "output_type": "stream",
     "text": [
      "tensor(False) tensor(False)\n",
      "tensor(0.) tensor(1.)\n",
      "tensor(-9.3399) tensor(620.0317)\n"
     ]
    }
   ],
   "source": [
    "print(torch.isnan(X_concat_train).any(), torch.isnan(y_concat_train).any())\n",
    "print(torch.min(y_concat_train), torch.max(y_concat_train))\n",
    "print(torch.min(X_concat_train), torch.max(X_concat_train))"
   ]
  },
  {
   "cell_type": "code",
   "execution_count": 15,
   "metadata": {},
   "outputs": [
    {
     "name": "stdout",
     "output_type": "stream",
     "text": [
      "Epoch 1/100: Train Loss = 114.0467, Val Loss = 0.6259\n",
      "Epoch 2/100: Train Loss = 105.6265, Val Loss = 0.6123\n",
      "Epoch 3/100: Train Loss = 104.2090, Val Loss = 0.6061\n",
      "Epoch 4/100: Train Loss = 103.2867, Val Loss = 0.5964\n",
      "Epoch 5/100: Train Loss = 102.7792, Val Loss = 0.5964\n",
      "Epoch 6/100: Train Loss = 102.4325, Val Loss = 0.5935\n",
      "Epoch 7/100: Train Loss = 101.6774, Val Loss = 0.5919\n",
      "Epoch 8/100: Train Loss = 101.8833, Val Loss = 0.5881\n",
      "Epoch 9/100: Train Loss = 101.8309, Val Loss = 0.5883\n",
      "Epoch 10/100: Train Loss = 100.8807, Val Loss = 0.5863\n",
      "Epoch 11/100: Train Loss = 100.7786, Val Loss = 0.5882\n",
      "Epoch 12/100: Train Loss = 100.6362, Val Loss = 0.5886\n",
      "Epoch 13/100: Train Loss = 100.8818, Val Loss = 0.5900\n",
      "Epoch 14/100: Train Loss = 100.3747, Val Loss = 0.5865\n",
      "Epoch 15/100: Train Loss = 100.3565, Val Loss = 0.5873\n",
      "Epoch 16/100: Train Loss = 100.7458, Val Loss = 0.5847\n",
      "Epoch 17/100: Train Loss = 99.9089, Val Loss = 0.5844\n",
      "Epoch 18/100: Train Loss = 99.7747, Val Loss = 0.5854\n",
      "Epoch 19/100: Train Loss = 100.0627, Val Loss = 0.5849\n",
      "Epoch 20/100: Train Loss = 99.6612, Val Loss = 0.5889\n",
      "Epoch 21/100: Train Loss = 99.5042, Val Loss = 0.5846\n",
      "Epoch 22/100: Train Loss = 99.3857, Val Loss = 0.5870\n",
      "Epoch 23/100: Train Loss = 99.1921, Val Loss = 0.5845\n",
      "Epoch 24/100: Train Loss = 99.6148, Val Loss = 0.5827\n",
      "Epoch 25/100: Train Loss = 99.1298, Val Loss = 0.5828\n",
      "Epoch 26/100: Train Loss = 99.2058, Val Loss = 0.5837\n",
      "Epoch 27/100: Train Loss = 99.2422, Val Loss = 0.5842\n",
      "Epoch 28/100: Train Loss = 98.9806, Val Loss = 0.5823\n",
      "Epoch 29/100: Train Loss = 99.0694, Val Loss = 0.5819\n",
      "Epoch 30/100: Train Loss = 99.0931, Val Loss = 0.5834\n",
      "Epoch 31/100: Train Loss = 98.6386, Val Loss = 0.5836\n",
      "Epoch 32/100: Train Loss = 98.7617, Val Loss = 0.5846\n",
      "Epoch 33/100: Train Loss = 98.6323, Val Loss = 0.5822\n",
      "Epoch 34/100: Train Loss = 98.6601, Val Loss = 0.5852\n",
      "Epoch 35/100: Train Loss = 98.7640, Val Loss = 0.5811\n",
      "Epoch 36/100: Train Loss = 98.4974, Val Loss = 0.5810\n",
      "Epoch 37/100: Train Loss = 98.2401, Val Loss = 0.5834\n",
      "Epoch 38/100: Train Loss = 97.6439, Val Loss = 0.5849\n",
      "Epoch 39/100: Train Loss = 98.3459, Val Loss = 0.5818\n",
      "Epoch 40/100: Train Loss = 97.7560, Val Loss = 0.5816\n",
      "Epoch 41/100: Train Loss = 98.2829, Val Loss = 0.5805\n",
      "Epoch 42/100: Train Loss = 97.6601, Val Loss = 0.5805\n",
      "Epoch 43/100: Train Loss = 97.7015, Val Loss = 0.5758\n",
      "Epoch 44/100: Train Loss = 97.6999, Val Loss = 0.5822\n",
      "Epoch 45/100: Train Loss = 97.8217, Val Loss = 0.5784\n",
      "Epoch 46/100: Train Loss = 97.3943, Val Loss = 0.5827\n",
      "Epoch 47/100: Train Loss = 98.0153, Val Loss = 0.5780\n",
      "Epoch 48/100: Train Loss = 97.5359, Val Loss = 0.5784\n",
      "Epoch 49/100: Train Loss = 98.0334, Val Loss = 0.5779\n",
      "Epoch 50/100: Train Loss = 98.2852, Val Loss = 0.5792\n",
      "Epoch 51/100: Train Loss = 96.8975, Val Loss = 0.5795\n",
      "Epoch 52/100: Train Loss = 97.5354, Val Loss = 0.5786\n",
      "Epoch 53/100: Train Loss = 98.0760, Val Loss = 0.5848\n",
      "Early stopping triggered.\n"
     ]
    }
   ],
   "source": [
    "concat_model = train_model(\n",
    "    X_concat_train, y_concat_train, \n",
    "    X_concat_val, y_concat_val,\n",
    "    input_dim=X_concat_train.shape[1],\n",
    "    hidden_dim=64,\n",
    "    num_hidden_layers=3,\n",
    "    activation='relu',\n",
    "    dropout_rate=0.2,\n",
    "    learning_rate=1e-3,\n",
    "    use_l1=False,\n",
    "    use_l2=True,\n",
    "    l1_lambda=1e-5,\n",
    "    l2_lambda=1e-4,\n",
    "    early_stopping_patience=10,\n",
    "    skip_training=False\n",
    ")"
   ]
  },
  {
   "cell_type": "code",
   "execution_count": 16,
   "metadata": {},
   "outputs": [
    {
     "name": "stdout",
     "output_type": "stream",
     "text": [
      "Combining Datasets Trained Accuracy: 63.04%\n"
     ]
    }
   ],
   "source": [
    "accuracy = evaluate_model(concat_model, X_hd_val, y_hd_val)\n",
    "print(f\"Combining Datasets Trained Accuracy: {accuracy:.2%}\")"
   ]
  }
 ],
 "metadata": {
  "colab": {
   "collapsed_sections": [],
   "name": "Untitled15.ipynb",
   "provenance": []
  },
  "kernelspec": {
   "display_name": "ece228-env",
   "language": "python",
   "name": "python3"
  },
  "language_info": {
   "codemirror_mode": {
    "name": "ipython",
    "version": 3
   },
   "file_extension": ".py",
   "mimetype": "text/x-python",
   "name": "python",
   "nbconvert_exporter": "python",
   "pygments_lexer": "ipython3",
   "version": "3.11.11"
  }
 },
 "nbformat": 4,
 "nbformat_minor": 4
}
